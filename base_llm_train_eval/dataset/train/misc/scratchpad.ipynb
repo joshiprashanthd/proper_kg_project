{
 "cells": [
  {
   "cell_type": "code",
   "execution_count": 1,
   "id": "6b74f194",
   "metadata": {},
   "outputs": [],
   "source": [
    "import pandas as pd"
   ]
  },
  {
   "cell_type": "code",
   "execution_count": 2,
   "id": "6bef1fe7",
   "metadata": {},
   "outputs": [
    {
     "data": {
      "text/html": [
       "<div>\n",
       "<style scoped>\n",
       "    .dataframe tbody tr th:only-of-type {\n",
       "        vertical-align: middle;\n",
       "    }\n",
       "\n",
       "    .dataframe tbody tr th {\n",
       "        vertical-align: top;\n",
       "    }\n",
       "\n",
       "    .dataframe thead th {\n",
       "        text-align: right;\n",
       "    }\n",
       "</style>\n",
       "<table border=\"1\" class=\"dataframe\">\n",
       "  <thead>\n",
       "    <tr style=\"text-align: right;\">\n",
       "      <th></th>\n",
       "      <th>Unnamed: 0</th>\n",
       "      <th>text</th>\n",
       "      <th>depression_label</th>\n",
       "      <th>anxiety_label</th>\n",
       "      <th>multilabel_clf_label</th>\n",
       "      <th>multiclass_clf_label</th>\n",
       "      <th>id</th>\n",
       "    </tr>\n",
       "  </thead>\n",
       "  <tbody>\n",
       "    <tr>\n",
       "      <th>0</th>\n",
       "      <td>0</td>\n",
       "      <td>i woke up very early, 2 am. i just came out of...</td>\n",
       "      <td>1</td>\n",
       "      <td>0</td>\n",
       "      <td>[1, 0]</td>\n",
       "      <td>Depression</td>\n",
       "      <td>4JEVyZ</td>\n",
       "    </tr>\n",
       "    <tr>\n",
       "      <th>1</th>\n",
       "      <td>1</td>\n",
       "      <td>ive been trying my damndest to improve myself ...</td>\n",
       "      <td>1</td>\n",
       "      <td>0</td>\n",
       "      <td>[1, 0]</td>\n",
       "      <td>Depression</td>\n",
       "      <td>3jkFBr</td>\n",
       "    </tr>\n",
       "    <tr>\n",
       "      <th>2</th>\n",
       "      <td>2</td>\n",
       "      <td>he lives on the other side of the country and ...</td>\n",
       "      <td>1</td>\n",
       "      <td>0</td>\n",
       "      <td>[1, 0]</td>\n",
       "      <td>Depression</td>\n",
       "      <td>4DZQ7p</td>\n",
       "    </tr>\n",
       "    <tr>\n",
       "      <th>3</th>\n",
       "      <td>3</td>\n",
       "      <td>i work in retail and lately ive had some shit ...</td>\n",
       "      <td>0</td>\n",
       "      <td>1</td>\n",
       "      <td>[0, 1]</td>\n",
       "      <td>Anxiety</td>\n",
       "      <td>FSr2Vx</td>\n",
       "    </tr>\n",
       "    <tr>\n",
       "      <th>4</th>\n",
       "      <td>4</td>\n",
       "      <td>i had my first one in november 2020, another 2...</td>\n",
       "      <td>0</td>\n",
       "      <td>1</td>\n",
       "      <td>[0, 1]</td>\n",
       "      <td>Anxiety</td>\n",
       "      <td>42FfcW</td>\n",
       "    </tr>\n",
       "  </tbody>\n",
       "</table>\n",
       "</div>"
      ],
      "text/plain": [
       "   Unnamed: 0                                               text  \\\n",
       "0           0  i woke up very early, 2 am. i just came out of...   \n",
       "1           1  ive been trying my damndest to improve myself ...   \n",
       "2           2  he lives on the other side of the country and ...   \n",
       "3           3  i work in retail and lately ive had some shit ...   \n",
       "4           4  i had my first one in november 2020, another 2...   \n",
       "\n",
       "   depression_label  anxiety_label multilabel_clf_label multiclass_clf_label  \\\n",
       "0                 1              0               [1, 0]           Depression   \n",
       "1                 1              0               [1, 0]           Depression   \n",
       "2                 1              0               [1, 0]           Depression   \n",
       "3                 0              1               [0, 1]              Anxiety   \n",
       "4                 0              1               [0, 1]              Anxiety   \n",
       "\n",
       "       id  \n",
       "0  4JEVyZ  \n",
       "1  3jkFBr  \n",
       "2  4DZQ7p  \n",
       "3  FSr2Vx  \n",
       "4  42FfcW  "
      ]
     },
     "execution_count": 2,
     "metadata": {},
     "output_type": "execute_result"
    }
   ],
   "source": [
    "df = pd.read_csv(\"./angst-silver_train.csv\")\n",
    "df.head()"
   ]
  },
  {
   "cell_type": "code",
   "execution_count": 3,
   "id": "6639620a",
   "metadata": {},
   "outputs": [
    {
     "data": {
      "text/html": [
       "<div>\n",
       "<style scoped>\n",
       "    .dataframe tbody tr th:only-of-type {\n",
       "        vertical-align: middle;\n",
       "    }\n",
       "\n",
       "    .dataframe tbody tr th {\n",
       "        vertical-align: top;\n",
       "    }\n",
       "\n",
       "    .dataframe thead th {\n",
       "        text-align: right;\n",
       "    }\n",
       "</style>\n",
       "<table border=\"1\" class=\"dataframe\">\n",
       "  <thead>\n",
       "    <tr style=\"text-align: right;\">\n",
       "      <th></th>\n",
       "      <th>text</th>\n",
       "      <th>multiclass_clf_label</th>\n",
       "      <th>id</th>\n",
       "    </tr>\n",
       "  </thead>\n",
       "  <tbody>\n",
       "    <tr>\n",
       "      <th>0</th>\n",
       "      <td>i woke up very early, 2 am. i just came out of...</td>\n",
       "      <td>Depression</td>\n",
       "      <td>4JEVyZ</td>\n",
       "    </tr>\n",
       "    <tr>\n",
       "      <th>1</th>\n",
       "      <td>ive been trying my damndest to improve myself ...</td>\n",
       "      <td>Depression</td>\n",
       "      <td>3jkFBr</td>\n",
       "    </tr>\n",
       "    <tr>\n",
       "      <th>2</th>\n",
       "      <td>he lives on the other side of the country and ...</td>\n",
       "      <td>Depression</td>\n",
       "      <td>4DZQ7p</td>\n",
       "    </tr>\n",
       "    <tr>\n",
       "      <th>3</th>\n",
       "      <td>i work in retail and lately ive had some shit ...</td>\n",
       "      <td>Anxiety</td>\n",
       "      <td>FSr2Vx</td>\n",
       "    </tr>\n",
       "    <tr>\n",
       "      <th>4</th>\n",
       "      <td>i had my first one in november 2020, another 2...</td>\n",
       "      <td>Anxiety</td>\n",
       "      <td>42FfcW</td>\n",
       "    </tr>\n",
       "  </tbody>\n",
       "</table>\n",
       "</div>"
      ],
      "text/plain": [
       "                                                text multiclass_clf_label  \\\n",
       "0  i woke up very early, 2 am. i just came out of...           Depression   \n",
       "1  ive been trying my damndest to improve myself ...           Depression   \n",
       "2  he lives on the other side of the country and ...           Depression   \n",
       "3  i work in retail and lately ive had some shit ...              Anxiety   \n",
       "4  i had my first one in november 2020, another 2...              Anxiety   \n",
       "\n",
       "       id  \n",
       "0  4JEVyZ  \n",
       "1  3jkFBr  \n",
       "2  4DZQ7p  \n",
       "3  FSr2Vx  \n",
       "4  42FfcW  "
      ]
     },
     "execution_count": 3,
     "metadata": {},
     "output_type": "execute_result"
    }
   ],
   "source": [
    "df.drop(columns=['Unnamed: 0', 'depression_label', 'anxiety_label', 'multilabel_clf_label'], inplace=True)\n",
    "df.head()"
   ]
  },
  {
   "cell_type": "code",
   "execution_count": 4,
   "id": "2d91a806",
   "metadata": {},
   "outputs": [
    {
     "data": {
      "text/html": [
       "<div>\n",
       "<style scoped>\n",
       "    .dataframe tbody tr th:only-of-type {\n",
       "        vertical-align: middle;\n",
       "    }\n",
       "\n",
       "    .dataframe tbody tr th {\n",
       "        vertical-align: top;\n",
       "    }\n",
       "\n",
       "    .dataframe thead th {\n",
       "        text-align: right;\n",
       "    }\n",
       "</style>\n",
       "<table border=\"1\" class=\"dataframe\">\n",
       "  <thead>\n",
       "    <tr style=\"text-align: right;\">\n",
       "      <th></th>\n",
       "      <th>text</th>\n",
       "      <th>label</th>\n",
       "      <th>id</th>\n",
       "    </tr>\n",
       "  </thead>\n",
       "  <tbody>\n",
       "    <tr>\n",
       "      <th>0</th>\n",
       "      <td>i woke up very early, 2 am. i just came out of...</td>\n",
       "      <td>Depression</td>\n",
       "      <td>4JEVyZ</td>\n",
       "    </tr>\n",
       "    <tr>\n",
       "      <th>1</th>\n",
       "      <td>ive been trying my damndest to improve myself ...</td>\n",
       "      <td>Depression</td>\n",
       "      <td>3jkFBr</td>\n",
       "    </tr>\n",
       "    <tr>\n",
       "      <th>2</th>\n",
       "      <td>he lives on the other side of the country and ...</td>\n",
       "      <td>Depression</td>\n",
       "      <td>4DZQ7p</td>\n",
       "    </tr>\n",
       "    <tr>\n",
       "      <th>3</th>\n",
       "      <td>i work in retail and lately ive had some shit ...</td>\n",
       "      <td>Anxiety</td>\n",
       "      <td>FSr2Vx</td>\n",
       "    </tr>\n",
       "    <tr>\n",
       "      <th>4</th>\n",
       "      <td>i had my first one in november 2020, another 2...</td>\n",
       "      <td>Anxiety</td>\n",
       "      <td>42FfcW</td>\n",
       "    </tr>\n",
       "  </tbody>\n",
       "</table>\n",
       "</div>"
      ],
      "text/plain": [
       "                                                text       label      id\n",
       "0  i woke up very early, 2 am. i just came out of...  Depression  4JEVyZ\n",
       "1  ive been trying my damndest to improve myself ...  Depression  3jkFBr\n",
       "2  he lives on the other side of the country and ...  Depression  4DZQ7p\n",
       "3  i work in retail and lately ive had some shit ...     Anxiety  FSr2Vx\n",
       "4  i had my first one in november 2020, another 2...     Anxiety  42FfcW"
      ]
     },
     "execution_count": 4,
     "metadata": {},
     "output_type": "execute_result"
    }
   ],
   "source": [
    "df.rename(columns={\"multiclass_clf_label\": \"label\"}, inplace=True)\n",
    "df.head()"
   ]
  },
  {
   "cell_type": "code",
   "execution_count": 5,
   "id": "35f5c036",
   "metadata": {},
   "outputs": [],
   "source": [
    "df.to_csv(\"angst_silve_train_cleaned.csv\", index=False)"
   ]
  },
  {
   "cell_type": "code",
   "execution_count": 6,
   "id": "d559beb8",
   "metadata": {},
   "outputs": [
    {
     "data": {
      "text/plain": [
       "7667"
      ]
     },
     "execution_count": 6,
     "metadata": {},
     "output_type": "execute_result"
    }
   ],
   "source": [
    "len(df)"
   ]
  },
  {
   "cell_type": "code",
   "execution_count": null,
   "id": "88b89429",
   "metadata": {},
   "outputs": [],
   "source": []
  }
 ],
 "metadata": {
  "kernelspec": {
   "display_name": "kgenv",
   "language": "python",
   "name": "python3"
  },
  "language_info": {
   "codemirror_mode": {
    "name": "ipython",
    "version": 3
   },
   "file_extension": ".py",
   "mimetype": "text/x-python",
   "name": "python",
   "nbconvert_exporter": "python",
   "pygments_lexer": "ipython3",
   "version": "3.11.8"
  }
 },
 "nbformat": 4,
 "nbformat_minor": 5
}
