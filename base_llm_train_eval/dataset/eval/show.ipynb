{
 "cells": [
  {
   "cell_type": "code",
   "execution_count": 1,
   "id": "a9f65944",
   "metadata": {},
   "outputs": [],
   "source": [
    "import pandas as pd"
   ]
  },
  {
   "cell_type": "code",
   "execution_count": 2,
   "id": "65ddbaee",
   "metadata": {},
   "outputs": [
    {
     "name": "stdout",
     "output_type": "stream",
     "text": [
      "<class 'pandas.core.frame.DataFrame'>\n",
      "RangeIndex: 2872 entries, 0 to 2871\n",
      "Data columns (total 8 columns):\n",
      " #   Column                 Non-Null Count  Dtype \n",
      "---  ------                 --------------  ----- \n",
      " 0   id                     2872 non-null   object\n",
      " 1   question               2872 non-null   object\n",
      " 2   option1                2872 non-null   object\n",
      " 3   option2                2872 non-null   object\n",
      " 4   option3                2872 non-null   object\n",
      " 5   option4                2872 non-null   object\n",
      " 6   answer                 2872 non-null   object\n",
      " 7   correct_option_number  2872 non-null   int64 \n",
      "dtypes: int64(1), object(7)\n",
      "memory usage: 179.6+ KB\n"
     ]
    }
   ],
   "source": [
    "df = pd.read_csv(\"./angst_test.csv\")\n",
    "df.info()"
   ]
  },
  {
   "cell_type": "code",
   "execution_count": 4,
   "id": "6dc9e8cc",
   "metadata": {},
   "outputs": [
    {
     "name": "stdout",
     "output_type": "stream",
     "text": [
      "<class 'pandas.core.frame.DataFrame'>\n",
      "RangeIndex: 7667 entries, 0 to 7666\n",
      "Data columns (total 8 columns):\n",
      " #   Column                 Non-Null Count  Dtype \n",
      "---  ------                 --------------  ----- \n",
      " 0   id                     7667 non-null   object\n",
      " 1   question               7667 non-null   object\n",
      " 2   option1                7667 non-null   object\n",
      " 3   option2                7667 non-null   object\n",
      " 4   option3                7667 non-null   object\n",
      " 5   option4                7667 non-null   object\n",
      " 6   answer                 7667 non-null   object\n",
      " 7   correct_option_number  7667 non-null   int64 \n",
      "dtypes: int64(1), object(7)\n",
      "memory usage: 479.3+ KB\n"
     ]
    }
   ],
   "source": [
    "df = pd.read_csv(\"/home/sracha/proper_kg_project/base_llm_train_eval/dataset/train/angst_silver_train.csv\")\n",
    "df.info()"
   ]
  },
  {
   "cell_type": "code",
   "execution_count": null,
   "id": "8e272f18",
   "metadata": {},
   "outputs": [],
   "source": []
  }
 ],
 "metadata": {
  "kernelspec": {
   "display_name": "kgenv",
   "language": "python",
   "name": "python3"
  },
  "language_info": {
   "codemirror_mode": {
    "name": "ipython",
    "version": 3
   },
   "file_extension": ".py",
   "mimetype": "text/x-python",
   "name": "python",
   "nbconvert_exporter": "python",
   "pygments_lexer": "ipython3",
   "version": "3.11.8"
  }
 },
 "nbformat": 4,
 "nbformat_minor": 5
}
