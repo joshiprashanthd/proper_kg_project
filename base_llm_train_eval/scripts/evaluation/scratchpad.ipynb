{
 "cells": [
  {
   "cell_type": "code",
   "execution_count": 1,
   "id": "aed1b493",
   "metadata": {},
   "outputs": [],
   "source": [
    "import sklearn\n",
    "import pandas as pd\n",
    "\n",
    "df = pd.read_csv('/home/sracha/proper_kg_project/base_llm_train_eval/scripts/evaluation/outputs/DiagMent-LLM-1_angst_test/run_2025_05_29_00_43_10/DiagMent-LLM-1_angst_test_merged.csv')\n",
    "df_correct = df['correct_option_number']\n",
    "df_predicted = df['output_predictions']\n",
    "#use report function from sklearn to get the classification report. df_correct and df_predicted are the true labels and predicted labels respectively.\n",
    "from sklearn.metrics import classification_report\n",
    "report = classification_report(df_correct, df_predicted, output_dict=True)\n",
    "#convert the report to a pandas dataframe\n",
    "report_df = pd.DataFrame(report).transpose()\n",
    "#save the report to a csv file\n",
    "report_df.to_csv('/home/sracha/proper_kg_project/base_llm_train_eval/scripts/evaluation/outputs/DiagMent-LLM-1_angst_test/output_report.csv')\n"
   ]
  },
  {
   "cell_type": "code",
   "execution_count": 2,
   "id": "4d066133",
   "metadata": {},
   "outputs": [
    {
     "name": "stdout",
     "output_type": "stream",
     "text": [
      "              precision    recall  f1-score      support\n",
      "1              0.355612  0.422156  0.386037   668.000000\n",
      "2              0.377863  0.278481  0.320648   711.000000\n",
      "3              0.354188  0.476902  0.406485   736.000000\n",
      "4              0.415608  0.307796  0.353668   744.000000\n",
      "accuracy       0.370759  0.370759  0.370759     0.370759\n",
      "macro avg      0.375817  0.371334  0.366709  2859.000000\n",
      "weighted avg   0.376392  0.370759  0.366616  2859.000000\n"
     ]
    }
   ],
   "source": [
    "print(report_df)"
   ]
  },
  {
   "cell_type": "code",
   "execution_count": null,
   "id": "5c4ab634",
   "metadata": {},
   "outputs": [],
   "source": []
  }
 ],
 "metadata": {
  "kernelspec": {
   "display_name": "kgenv",
   "language": "python",
   "name": "python3"
  },
  "language_info": {
   "codemirror_mode": {
    "name": "ipython",
    "version": 3
   },
   "file_extension": ".py",
   "mimetype": "text/x-python",
   "name": "python",
   "nbconvert_exporter": "python",
   "pygments_lexer": "ipython3",
   "version": "3.11.8"
  }
 },
 "nbformat": 4,
 "nbformat_minor": 5
}
