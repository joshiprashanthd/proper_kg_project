{
 "cells": [
  {
   "cell_type": "code",
   "execution_count": 2,
   "metadata": {},
   "outputs": [],
   "source": [
    "import pandas as pd\n",
    "from pathlib import Path"
   ]
  },
  {
   "cell_type": "code",
   "execution_count": 3,
   "metadata": {},
   "outputs": [],
   "source": [
    "csv_paths = []\n",
    "combined_path = Path(\"../data/qna/combined\")\n",
    "for file in combined_path.iterdir():\n",
    "    csv_paths.append(Path(file))\n",
    "    "
   ]
  },
  {
   "cell_type": "code",
   "execution_count": 4,
   "metadata": {},
   "outputs": [
    {
     "data": {
      "text/plain": [
       "[PosixPath('../data/qna/combined/mhqa-b.csv'),\n",
       " PosixPath('../data/qna/combined/bioasq.csv'),\n",
       " PosixPath('../data/qna/combined/medqa.csv'),\n",
       " PosixPath('../data/qna/combined/mhqa.csv'),\n",
       " PosixPath('../data/qna/combined/medquad.csv'),\n",
       " PosixPath('../data/qna/combined/medmcqa.csv'),\n",
       " PosixPath('../data/qna/combined/preprocessed'),\n",
       " PosixPath('../data/qna/combined/pubmed.csv')]"
      ]
     },
     "execution_count": 4,
     "metadata": {},
     "output_type": "execute_result"
    }
   ],
   "source": [
    "csv_paths"
   ]
  },
  {
   "cell_type": "code",
   "execution_count": 7,
   "metadata": {},
   "outputs": [
    {
     "name": "stdout",
     "output_type": "stream",
     "text": [
      "../data/qna/combined/medquad.csv\n",
      "<class 'pandas.core.frame.DataFrame'>\n",
      "RangeIndex: 2995 entries, 0 to 2994\n",
      "Data columns (total 13 columns):\n",
      " #   Column               Non-Null Count  Dtype \n",
      "---  ------               --------------  ----- \n",
      " 0   document_id          2995 non-null   int64 \n",
      " 1   document_source      2995 non-null   object\n",
      " 2   document_url         2995 non-null   object\n",
      " 3   category             2995 non-null   object\n",
      " 4   umls_cui             2995 non-null   object\n",
      " 5   umls_semantic_types  2995 non-null   object\n",
      " 6   umls_semantic_group  2995 non-null   object\n",
      " 7   synonyms             2995 non-null   object\n",
      " 8   question_id          2995 non-null   object\n",
      " 9   question_focus       2995 non-null   object\n",
      " 10  question_type        2995 non-null   object\n",
      " 11  Question             2995 non-null   object\n",
      " 12  answer               2995 non-null   object\n",
      "dtypes: int64(1), object(12)\n",
      "memory usage: 304.3+ KB\n"
     ]
    }
   ],
   "source": [
    "idx = 4\n",
    "csv_path = csv_paths[idx]\n",
    "print(csv_path)\n",
    "df = pd.read_csv(csv_path)\n",
    "df.info()"
   ]
  },
  {
   "cell_type": "code",
   "execution_count": 8,
   "metadata": {},
   "outputs": [
    {
     "data": {
      "text/html": [
       "<div>\n",
       "<style scoped>\n",
       "    .dataframe tbody tr th:only-of-type {\n",
       "        vertical-align: middle;\n",
       "    }\n",
       "\n",
       "    .dataframe tbody tr th {\n",
       "        vertical-align: top;\n",
       "    }\n",
       "\n",
       "    .dataframe thead th {\n",
       "        text-align: right;\n",
       "    }\n",
       "</style>\n",
       "<table border=\"1\" class=\"dataframe\">\n",
       "  <thead>\n",
       "    <tr style=\"text-align: right;\">\n",
       "      <th></th>\n",
       "      <th>document_id</th>\n",
       "      <th>document_source</th>\n",
       "      <th>document_url</th>\n",
       "      <th>category</th>\n",
       "      <th>umls_cui</th>\n",
       "      <th>umls_semantic_types</th>\n",
       "      <th>umls_semantic_group</th>\n",
       "      <th>synonyms</th>\n",
       "      <th>question_id</th>\n",
       "      <th>question_focus</th>\n",
       "      <th>question_type</th>\n",
       "      <th>Question</th>\n",
       "      <th>answer</th>\n",
       "    </tr>\n",
       "  </thead>\n",
       "  <tbody>\n",
       "    <tr>\n",
       "      <th>0</th>\n",
       "      <td>985</td>\n",
       "      <td>GHR</td>\n",
       "      <td>https://ghr.nlm.nih.gov/condition/tourette-syn...</td>\n",
       "      <td>\\N</td>\n",
       "      <td>C0040517</td>\n",
       "      <td>T047</td>\n",
       "      <td>Disorders</td>\n",
       "      <td>Chronic Motor and Vocal Tic Disorder|Gilles de...</td>\n",
       "      <td>0000985-1</td>\n",
       "      <td>Tourette syndrome</td>\n",
       "      <td>information</td>\n",
       "      <td>What is (are) Tourette syndrome ?</td>\n",
       "      <td>Tourette syndrome is a complex disorder charac...</td>\n",
       "    </tr>\n",
       "    <tr>\n",
       "      <th>1</th>\n",
       "      <td>985</td>\n",
       "      <td>GHR</td>\n",
       "      <td>https://ghr.nlm.nih.gov/condition/tourette-syn...</td>\n",
       "      <td>\\N</td>\n",
       "      <td>C0040517</td>\n",
       "      <td>T047</td>\n",
       "      <td>Disorders</td>\n",
       "      <td>Chronic Motor and Vocal Tic Disorder|Gilles de...</td>\n",
       "      <td>0000985-2</td>\n",
       "      <td>Tourette syndrome</td>\n",
       "      <td>frequency</td>\n",
       "      <td>How many people are affected by Tourette syndr...</td>\n",
       "      <td>Although the exact incidence of Tourette syndr...</td>\n",
       "    </tr>\n",
       "    <tr>\n",
       "      <th>2</th>\n",
       "      <td>985</td>\n",
       "      <td>GHR</td>\n",
       "      <td>https://ghr.nlm.nih.gov/condition/tourette-syn...</td>\n",
       "      <td>\\N</td>\n",
       "      <td>C0040517</td>\n",
       "      <td>T047</td>\n",
       "      <td>Disorders</td>\n",
       "      <td>Chronic Motor and Vocal Tic Disorder|Gilles de...</td>\n",
       "      <td>0000985-3</td>\n",
       "      <td>Tourette syndrome</td>\n",
       "      <td>genetic changes</td>\n",
       "      <td>What are the genetic changes related to Touret...</td>\n",
       "      <td>A variety of genetic and environmental factors...</td>\n",
       "    </tr>\n",
       "    <tr>\n",
       "      <th>3</th>\n",
       "      <td>985</td>\n",
       "      <td>GHR</td>\n",
       "      <td>https://ghr.nlm.nih.gov/condition/tourette-syn...</td>\n",
       "      <td>\\N</td>\n",
       "      <td>C0040517</td>\n",
       "      <td>T047</td>\n",
       "      <td>Disorders</td>\n",
       "      <td>Chronic Motor and Vocal Tic Disorder|Gilles de...</td>\n",
       "      <td>0000985-4</td>\n",
       "      <td>Tourette syndrome</td>\n",
       "      <td>inheritance</td>\n",
       "      <td>Is Tourette syndrome inherited ?</td>\n",
       "      <td>The inheritance pattern of Tourette syndrome i...</td>\n",
       "    </tr>\n",
       "    <tr>\n",
       "      <th>4</th>\n",
       "      <td>985</td>\n",
       "      <td>GHR</td>\n",
       "      <td>https://ghr.nlm.nih.gov/condition/tourette-syn...</td>\n",
       "      <td>\\N</td>\n",
       "      <td>C0040517</td>\n",
       "      <td>T047</td>\n",
       "      <td>Disorders</td>\n",
       "      <td>Chronic Motor and Vocal Tic Disorder|Gilles de...</td>\n",
       "      <td>0000985-5</td>\n",
       "      <td>Tourette syndrome</td>\n",
       "      <td>treatment</td>\n",
       "      <td>What are the treatments for Tourette syndrome ?</td>\n",
       "      <td>These resources address the diagnosis or manag...</td>\n",
       "    </tr>\n",
       "  </tbody>\n",
       "</table>\n",
       "</div>"
      ],
      "text/plain": [
       "   document_id document_source  \\\n",
       "0          985             GHR   \n",
       "1          985             GHR   \n",
       "2          985             GHR   \n",
       "3          985             GHR   \n",
       "4          985             GHR   \n",
       "\n",
       "                                        document_url category  umls_cui  \\\n",
       "0  https://ghr.nlm.nih.gov/condition/tourette-syn...       \\N  C0040517   \n",
       "1  https://ghr.nlm.nih.gov/condition/tourette-syn...       \\N  C0040517   \n",
       "2  https://ghr.nlm.nih.gov/condition/tourette-syn...       \\N  C0040517   \n",
       "3  https://ghr.nlm.nih.gov/condition/tourette-syn...       \\N  C0040517   \n",
       "4  https://ghr.nlm.nih.gov/condition/tourette-syn...       \\N  C0040517   \n",
       "\n",
       "  umls_semantic_types umls_semantic_group  \\\n",
       "0                T047           Disorders   \n",
       "1                T047           Disorders   \n",
       "2                T047           Disorders   \n",
       "3                T047           Disorders   \n",
       "4                T047           Disorders   \n",
       "\n",
       "                                            synonyms question_id  \\\n",
       "0  Chronic Motor and Vocal Tic Disorder|Gilles de...   0000985-1   \n",
       "1  Chronic Motor and Vocal Tic Disorder|Gilles de...   0000985-2   \n",
       "2  Chronic Motor and Vocal Tic Disorder|Gilles de...   0000985-3   \n",
       "3  Chronic Motor and Vocal Tic Disorder|Gilles de...   0000985-4   \n",
       "4  Chronic Motor and Vocal Tic Disorder|Gilles de...   0000985-5   \n",
       "\n",
       "      question_focus    question_type  \\\n",
       "0  Tourette syndrome      information   \n",
       "1  Tourette syndrome        frequency   \n",
       "2  Tourette syndrome  genetic changes   \n",
       "3  Tourette syndrome      inheritance   \n",
       "4  Tourette syndrome        treatment   \n",
       "\n",
       "                                            Question  \\\n",
       "0                  What is (are) Tourette syndrome ?   \n",
       "1  How many people are affected by Tourette syndr...   \n",
       "2  What are the genetic changes related to Touret...   \n",
       "3                   Is Tourette syndrome inherited ?   \n",
       "4    What are the treatments for Tourette syndrome ?   \n",
       "\n",
       "                                              answer  \n",
       "0  Tourette syndrome is a complex disorder charac...  \n",
       "1  Although the exact incidence of Tourette syndr...  \n",
       "2  A variety of genetic and environmental factors...  \n",
       "3  The inheritance pattern of Tourette syndrome i...  \n",
       "4  These resources address the diagnosis or manag...  "
      ]
     },
     "execution_count": 8,
     "metadata": {},
     "output_type": "execute_result"
    }
   ],
   "source": [
    "df.head()"
   ]
  },
  {
   "cell_type": "code",
   "execution_count": 9,
   "metadata": {},
   "outputs": [
    {
     "name": "stdout",
     "output_type": "stream",
     "text": [
      "Columns:  ['document_id', 'document_source', 'document_url', 'category', 'umls_cui', 'umls_semantic_types', 'umls_semantic_group', 'synonyms', 'id', 'question_focus', 'question_type', 'question', 'answer']\n"
     ]
    }
   ],
   "source": [
    "df.rename(columns={'Question': \"question\", \"question_id\": \"id\"}, inplace=True, errors='ignore')\n",
    "print(\"Columns: \",df.columns.tolist())"
   ]
  },
  {
   "cell_type": "code",
   "execution_count": 10,
   "metadata": {},
   "outputs": [
    {
     "name": "stdout",
     "output_type": "stream",
     "text": [
      "Remaining Columns:  ['id', 'question', 'answer']\n"
     ]
    }
   ],
   "source": [
    "cols = set(df.columns.tolist()) - set(['id', \"question\", \"answer\"])\n",
    "df.drop(columns=cols, inplace=True, errors='ignore')\n",
    "print(\"Remaining Columns: \", df.columns.tolist())"
   ]
  },
  {
   "cell_type": "code",
   "execution_count": 11,
   "metadata": {},
   "outputs": [
    {
     "data": {
      "text/html": [
       "<div>\n",
       "<style scoped>\n",
       "    .dataframe tbody tr th:only-of-type {\n",
       "        vertical-align: middle;\n",
       "    }\n",
       "\n",
       "    .dataframe tbody tr th {\n",
       "        vertical-align: top;\n",
       "    }\n",
       "\n",
       "    .dataframe thead th {\n",
       "        text-align: right;\n",
       "    }\n",
       "</style>\n",
       "<table border=\"1\" class=\"dataframe\">\n",
       "  <thead>\n",
       "    <tr style=\"text-align: right;\">\n",
       "      <th></th>\n",
       "      <th>id</th>\n",
       "      <th>question</th>\n",
       "      <th>answer</th>\n",
       "    </tr>\n",
       "  </thead>\n",
       "  <tbody>\n",
       "    <tr>\n",
       "      <th>0</th>\n",
       "      <td>0000985-1</td>\n",
       "      <td>What is (are) Tourette syndrome ?</td>\n",
       "      <td>Tourette syndrome is a complex disorder charac...</td>\n",
       "    </tr>\n",
       "    <tr>\n",
       "      <th>1</th>\n",
       "      <td>0000985-2</td>\n",
       "      <td>How many people are affected by Tourette syndr...</td>\n",
       "      <td>Although the exact incidence of Tourette syndr...</td>\n",
       "    </tr>\n",
       "    <tr>\n",
       "      <th>2</th>\n",
       "      <td>0000985-3</td>\n",
       "      <td>What are the genetic changes related to Touret...</td>\n",
       "      <td>A variety of genetic and environmental factors...</td>\n",
       "    </tr>\n",
       "    <tr>\n",
       "      <th>3</th>\n",
       "      <td>0000985-4</td>\n",
       "      <td>Is Tourette syndrome inherited ?</td>\n",
       "      <td>The inheritance pattern of Tourette syndrome i...</td>\n",
       "    </tr>\n",
       "    <tr>\n",
       "      <th>4</th>\n",
       "      <td>0000985-5</td>\n",
       "      <td>What are the treatments for Tourette syndrome ?</td>\n",
       "      <td>These resources address the diagnosis or manag...</td>\n",
       "    </tr>\n",
       "  </tbody>\n",
       "</table>\n",
       "</div>"
      ],
      "text/plain": [
       "          id                                           question  \\\n",
       "0  0000985-1                  What is (are) Tourette syndrome ?   \n",
       "1  0000985-2  How many people are affected by Tourette syndr...   \n",
       "2  0000985-3  What are the genetic changes related to Touret...   \n",
       "3  0000985-4                   Is Tourette syndrome inherited ?   \n",
       "4  0000985-5    What are the treatments for Tourette syndrome ?   \n",
       "\n",
       "                                              answer  \n",
       "0  Tourette syndrome is a complex disorder charac...  \n",
       "1  Although the exact incidence of Tourette syndr...  \n",
       "2  A variety of genetic and environmental factors...  \n",
       "3  The inheritance pattern of Tourette syndrome i...  \n",
       "4  These resources address the diagnosis or manag...  "
      ]
     },
     "execution_count": 11,
     "metadata": {},
     "output_type": "execute_result"
    }
   ],
   "source": [
    "df.head()"
   ]
  },
  {
   "cell_type": "code",
   "execution_count": 110,
   "metadata": {},
   "outputs": [
    {
     "data": {
      "text/plain": [
       "array([3, 4, 2, 1, 0])"
      ]
     },
     "execution_count": 110,
     "metadata": {},
     "output_type": "execute_result"
    }
   ],
   "source": [
    "df['cop'] = df['cop'].apply(lambda x: x+1)\n",
    "df['cop'].unique()"
   ]
  },
  {
   "cell_type": "code",
   "execution_count": 111,
   "metadata": {},
   "outputs": [
    {
     "name": "stdout",
     "output_type": "stream",
     "text": [
      "Removed 215 rows with 'cop' values outside the range [1,4]\n"
     ]
    }
   ],
   "source": [
    "invalid_cop_count = df[~df['cop'].between(1, 4, inclusive='both')].shape[0]\n",
    "df = df[df['cop'].between(1, 4, inclusive='both')]\n",
    "print(f\"Removed {invalid_cop_count} rows with 'cop' values outside the range [1,4]\")"
   ]
  },
  {
   "cell_type": "code",
   "execution_count": 112,
   "metadata": {},
   "outputs": [
    {
     "data": {
      "text/html": [
       "<div>\n",
       "<style scoped>\n",
       "    .dataframe tbody tr th:only-of-type {\n",
       "        vertical-align: middle;\n",
       "    }\n",
       "\n",
       "    .dataframe tbody tr th {\n",
       "        vertical-align: top;\n",
       "    }\n",
       "\n",
       "    .dataframe thead th {\n",
       "        text-align: right;\n",
       "    }\n",
       "</style>\n",
       "<table border=\"1\" class=\"dataframe\">\n",
       "  <thead>\n",
       "    <tr style=\"text-align: right;\">\n",
       "      <th></th>\n",
       "      <th>id</th>\n",
       "      <th>question</th>\n",
       "      <th>option1</th>\n",
       "      <th>option2</th>\n",
       "      <th>option3</th>\n",
       "      <th>option4</th>\n",
       "      <th>cop</th>\n",
       "      <th>answer</th>\n",
       "    </tr>\n",
       "  </thead>\n",
       "  <tbody>\n",
       "    <tr>\n",
       "      <th>0</th>\n",
       "      <td>cbc8a1b1-532c-490e-a17d-9168083fabae</td>\n",
       "      <td>Mark the true statement regarding use of Lithi...</td>\n",
       "      <td>Monotherapy for acute episodes</td>\n",
       "      <td>Monitoring of serum concentration is not usefu...</td>\n",
       "      <td>Can result in leucocytosis</td>\n",
       "      <td>Can result in hypehyroidism on long term use</td>\n",
       "      <td>3</td>\n",
       "      <td>Can result in leucocytosis</td>\n",
       "    </tr>\n",
       "    <tr>\n",
       "      <th>1</th>\n",
       "      <td>01b9f068-4db2-45e5-94b8-19d4f7d290f7</td>\n",
       "      <td>A 14-year-old girl presents with quadriparesis...</td>\n",
       "      <td>Emery-Dreifuss muscular dystrophy</td>\n",
       "      <td>Becker muscular dystrophy</td>\n",
       "      <td>Limb-girdle dystrophy</td>\n",
       "      <td>Scapulofaciohumeral dystrophy</td>\n",
       "      <td>4</td>\n",
       "      <td>Scapulofaciohumeral dystrophy</td>\n",
       "    </tr>\n",
       "    <tr>\n",
       "      <th>2</th>\n",
       "      <td>fec423fb-be98-40a8-a9f3-477f6e7555f4</td>\n",
       "      <td>Schizophrenia is treated by</td>\n",
       "      <td>Anti depressants</td>\n",
       "      <td>Anti psychotics</td>\n",
       "      <td>Anti epileptics</td>\n",
       "      <td>Mood stabilizers</td>\n",
       "      <td>2</td>\n",
       "      <td>Anti psychotics</td>\n",
       "    </tr>\n",
       "    <tr>\n",
       "      <th>3</th>\n",
       "      <td>090f4f67-eab2-4ffc-a9d0-d03da739bf9f</td>\n",
       "      <td>A 19 year old female presents with pain in the...</td>\n",
       "      <td>Atropine injection</td>\n",
       "      <td>Levothyroxine administration</td>\n",
       "      <td>Aspirin</td>\n",
       "      <td>Increase iodine intake in food</td>\n",
       "      <td>3</td>\n",
       "      <td>Aspirin</td>\n",
       "    </tr>\n",
       "    <tr>\n",
       "      <th>4</th>\n",
       "      <td>b37eb019-4f8c-4131-8ff9-c2413a5b227e</td>\n",
       "      <td>Headache, apathy and deteriorating level of co...</td>\n",
       "      <td>Chronic subdral haematoma.</td>\n",
       "      <td>Pontine hemorrhage</td>\n",
       "      <td>Continuing cerebral.</td>\n",
       "      <td>Depressed skull fracture.</td>\n",
       "      <td>1</td>\n",
       "      <td>Chronic subdral haematoma.</td>\n",
       "    </tr>\n",
       "  </tbody>\n",
       "</table>\n",
       "</div>"
      ],
      "text/plain": [
       "                                     id  \\\n",
       "0  cbc8a1b1-532c-490e-a17d-9168083fabae   \n",
       "1  01b9f068-4db2-45e5-94b8-19d4f7d290f7   \n",
       "2  fec423fb-be98-40a8-a9f3-477f6e7555f4   \n",
       "3  090f4f67-eab2-4ffc-a9d0-d03da739bf9f   \n",
       "4  b37eb019-4f8c-4131-8ff9-c2413a5b227e   \n",
       "\n",
       "                                            question  \\\n",
       "0  Mark the true statement regarding use of Lithi...   \n",
       "1  A 14-year-old girl presents with quadriparesis...   \n",
       "2                        Schizophrenia is treated by   \n",
       "3  A 19 year old female presents with pain in the...   \n",
       "4  Headache, apathy and deteriorating level of co...   \n",
       "\n",
       "                             option1  \\\n",
       "0     Monotherapy for acute episodes   \n",
       "1  Emery-Dreifuss muscular dystrophy   \n",
       "2                   Anti depressants   \n",
       "3                 Atropine injection   \n",
       "4         Chronic subdral haematoma.   \n",
       "\n",
       "                                             option2  \\\n",
       "0  Monitoring of serum concentration is not usefu...   \n",
       "1                          Becker muscular dystrophy   \n",
       "2                                    Anti psychotics   \n",
       "3                       Levothyroxine administration   \n",
       "4                                 Pontine hemorrhage   \n",
       "\n",
       "                      option3                                       option4  \\\n",
       "0  Can result in leucocytosis  Can result in hypehyroidism on long term use   \n",
       "1       Limb-girdle dystrophy                 Scapulofaciohumeral dystrophy   \n",
       "2             Anti epileptics                              Mood stabilizers   \n",
       "3                     Aspirin                Increase iodine intake in food   \n",
       "4        Continuing cerebral.                     Depressed skull fracture.   \n",
       "\n",
       "   cop                         answer  \n",
       "0    3     Can result in leucocytosis  \n",
       "1    4  Scapulofaciohumeral dystrophy  \n",
       "2    2                Anti psychotics  \n",
       "3    3                        Aspirin  \n",
       "4    1     Chronic subdral haematoma.  "
      ]
     },
     "execution_count": 112,
     "metadata": {},
     "output_type": "execute_result"
    }
   ],
   "source": [
    "def func(row):\n",
    "    col = f\"option{row['cop']}\"\n",
    "    return row[col]\n",
    "\n",
    "df['answer'] = df.apply(func, axis=1)\n",
    "df.head()"
   ]
  },
  {
   "cell_type": "code",
   "execution_count": 12,
   "metadata": {},
   "outputs": [
    {
     "name": "stdout",
     "output_type": "stream",
     "text": [
      "# Duplicates Found:  58\n"
     ]
    }
   ],
   "source": [
    "prev_len = len(df)\n",
    "df.drop_duplicates(['question','answer'], inplace=True)\n",
    "print(\"# Duplicates Found: \", prev_len - len(df))"
   ]
  },
  {
   "cell_type": "code",
   "execution_count": 13,
   "metadata": {},
   "outputs": [
    {
     "name": "stdout",
     "output_type": "stream",
     "text": [
      "# Null Values:  0\n"
     ]
    }
   ],
   "source": [
    "prev_len = len(df)\n",
    "df.dropna(inplace=True)\n",
    "print(\"# Null Values: \", prev_len - len(df))\n"
   ]
  },
  {
   "cell_type": "code",
   "execution_count": 17,
   "metadata": {},
   "outputs": [
    {
     "data": {
      "text/html": [
       "<div>\n",
       "<style scoped>\n",
       "    .dataframe tbody tr th:only-of-type {\n",
       "        vertical-align: middle;\n",
       "    }\n",
       "\n",
       "    .dataframe tbody tr th {\n",
       "        vertical-align: top;\n",
       "    }\n",
       "\n",
       "    .dataframe thead th {\n",
       "        text-align: right;\n",
       "    }\n",
       "</style>\n",
       "<table border=\"1\" class=\"dataframe\">\n",
       "  <thead>\n",
       "    <tr style=\"text-align: right;\">\n",
       "      <th></th>\n",
       "      <th>id</th>\n",
       "      <th>question</th>\n",
       "      <th>answer</th>\n",
       "    </tr>\n",
       "  </thead>\n",
       "  <tbody>\n",
       "    <tr>\n",
       "      <th>0</th>\n",
       "      <td>0000985-1</td>\n",
       "      <td>What is (are) Tourette syndrome ?</td>\n",
       "      <td>Tourette syndrome is a complex disorder charac...</td>\n",
       "    </tr>\n",
       "    <tr>\n",
       "      <th>1</th>\n",
       "      <td>0000985-2</td>\n",
       "      <td>How many people are affected by Tourette syndr...</td>\n",
       "      <td>Although the exact incidence of Tourette syndr...</td>\n",
       "    </tr>\n",
       "    <tr>\n",
       "      <th>2</th>\n",
       "      <td>0000985-3</td>\n",
       "      <td>What are the genetic changes related to Touret...</td>\n",
       "      <td>A variety of genetic and environmental factors...</td>\n",
       "    </tr>\n",
       "    <tr>\n",
       "      <th>3</th>\n",
       "      <td>0000985-4</td>\n",
       "      <td>Is Tourette syndrome inherited ?</td>\n",
       "      <td>The inheritance pattern of Tourette syndrome i...</td>\n",
       "    </tr>\n",
       "    <tr>\n",
       "      <th>4</th>\n",
       "      <td>0000985-5</td>\n",
       "      <td>What are the treatments for Tourette syndrome ?</td>\n",
       "      <td>These resources address the diagnosis or manag...</td>\n",
       "    </tr>\n",
       "  </tbody>\n",
       "</table>\n",
       "</div>"
      ],
      "text/plain": [
       "          id                                           question  \\\n",
       "0  0000985-1                  What is (are) Tourette syndrome ?   \n",
       "1  0000985-2  How many people are affected by Tourette syndr...   \n",
       "2  0000985-3  What are the genetic changes related to Touret...   \n",
       "3  0000985-4                   Is Tourette syndrome inherited ?   \n",
       "4  0000985-5    What are the treatments for Tourette syndrome ?   \n",
       "\n",
       "                                              answer  \n",
       "0  Tourette syndrome is a complex disorder charac...  \n",
       "1  Although the exact incidence of Tourette syndr...  \n",
       "2  A variety of genetic and environmental factors...  \n",
       "3  The inheritance pattern of Tourette syndrome i...  \n",
       "4  These resources address the diagnosis or manag...  "
      ]
     },
     "execution_count": 17,
     "metadata": {},
     "output_type": "execute_result"
    }
   ],
   "source": [
    "df.head()"
   ]
  },
  {
   "cell_type": "code",
   "execution_count": 15,
   "metadata": {},
   "outputs": [
    {
     "name": "stdout",
     "output_type": "stream",
     "text": [
      "Original dataframe shape: (2937, 3)\n",
      "Train dataframe shape: (2349, 3)\n",
      "Test dataframe shape: (588, 3)\n"
     ]
    }
   ],
   "source": [
    "from sklearn.model_selection import train_test_split\n",
    "train_df, test_df = train_test_split(\n",
    "    df, \n",
    "    test_size=0.2, \n",
    "    random_state=42\n",
    ")\n",
    "\n",
    "print(f\"Original dataframe shape: {df.shape}\")\n",
    "print(f\"Train dataframe shape: {train_df.shape}\")\n",
    "print(f\"Test dataframe shape: {test_df.shape}\")"
   ]
  },
  {
   "cell_type": "code",
   "execution_count": 128,
   "metadata": {},
   "outputs": [
    {
     "name": "stdout",
     "output_type": "stream",
     "text": [
      "Saved train_df to  ../data/qna/combined/preprocessed/pubmed_train.csv\n",
      "Saved test_df to  ../data/qna/combined/preprocessed/pubmed_test.csv\n"
     ]
    }
   ],
   "source": [
    "parent_path = csv_path.parent / \"preprocessed\"\n",
    "parent_path.mkdir(exist_ok=True)\n",
    "train_save_path = parent_path / (csv_path.stem + \"_train.csv\")\n",
    "test_save_path = parent_path / (csv_path.stem + \"_test.csv\")\n",
    "\n",
    "train_df.to_csv(train_save_path, index=False)\n",
    "test_df.to_csv(test_save_path, index=False)\n",
    "\n",
    "print(\"Saved train_df to \", train_save_path)\n",
    "print(\"Saved test_df to \", test_save_path)"
   ]
  },
  {
   "cell_type": "code",
   "execution_count": null,
   "metadata": {},
   "outputs": [],
   "source": []
  }
 ],
 "metadata": {
  "kernelspec": {
   "display_name": "kgenv",
   "language": "python",
   "name": "python3"
  },
  "language_info": {
   "codemirror_mode": {
    "name": "ipython",
    "version": 3
   },
   "file_extension": ".py",
   "mimetype": "text/x-python",
   "name": "python",
   "nbconvert_exporter": "python",
   "pygments_lexer": "ipython3",
   "version": "3.11.8"
  }
 },
 "nbformat": 4,
 "nbformat_minor": 2
}
