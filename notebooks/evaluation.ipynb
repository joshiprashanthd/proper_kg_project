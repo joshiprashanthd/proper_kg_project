{
 "cells": [
  {
   "cell_type": "markdown",
   "metadata": {},
   "source": [
    "# Evaluation of Knowledge Graph Pipeline\n",
    "\n",
    "This notebook is designed to evaluate the performance of the Knowledge Graph Pipeline components, including Named Entity Recognition (NER), subgraph retrieval, subgraph pruning, reasoning paths generation, and explanation generation."
   ]
  },
  {
   "cell_type": "code",
   "execution_count": null,
   "metadata": {
    "collapsed": false
   },
   "outputs": [],
   "source": [
    "import sys\n",
    "sys.path.append(\"..\")\n",
    "from src.pipeline.kg_pipeline import KGPipeline\n",
    "from src.utils.metrics import evaluate_pipeline\n",
    "import pandas as pd\n",
    "\n",
    "# Initialize the Knowledge Graph Pipeline\n",
    "kg_pipeline = KGPipeline()\n",
    "\n",
    "# Load test data\n",
    "test_data = pd.read_csv('../data/processed/test_data.csv')\n",
    "\n",
    "# Evaluate the pipeline\n",
    "evaluation_results = evaluate_pipeline(kg_pipeline, test_data)\n",
    "\n",
    "# Display evaluation results\n",
    "evaluation_results"
   ]
  },
  {
   "cell_type": "markdown",
   "metadata": {},
   "source": [
    "## Conclusion\n",
    "\n",
    "The evaluation results provide insights into the performance of the pipeline components. Further analysis can be conducted based on the results obtained."
   ]
  }
 ],
 "metadata": {
  "kernelspec": {
   "display_name": "Python 3",
   "language": "python",
   "name": "python3"
  },
  "language_info": {
   "codemirror_mode": {
    "name": "ipython",
    "version": 3
   },
   "file_extension": ".py",
   "mimetype": "text/x-python",
   "name": "python",
   "nbconvert_exporter": "python",
   "pygments_lexer": "ipython3",
   "version": "3.8.5"
  }
 },
 "nbformat": 4,
 "nbformat_minor": 4
}