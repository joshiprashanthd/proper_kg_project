{
 "cells": [
  {
   "cell_type": "markdown",
   "metadata": {},
   "source": [
    "# Exploration Notebook\n",
    "\n",
    "This notebook is intended for exploratory data analysis and experimentation with the components of the knowledge graph pipeline. It will cover the following aspects:\n",
    "- Named Entity Recognition (NER)\n",
    "- Subgraph Retrieval\n",
    "- Subgraph Pruning\n",
    "- Reasoning Paths Generation\n",
    "- Explanation Generation\n",
    "\n",
    "## Setup\n",
    "First, we will import the necessary libraries and modules."
   ]
  },
  {
   "cell_type": "code",
   "execution_count": null,
   "metadata": {},
   "outputs": [],
   "source": [
    "import sys\n",
    "sys.path.append(\"../src\")\n",
    "\n",
    "from components.ner.spacy_ner import SpacyNER\n",
    "from components.ner.llm_ner import LLMNER\n",
    "from components.subgraph_retrieval.related_nodes_retriever import RelatedNodesRetriever\n",
    "from components.subgraph_pruning.pagerank_pruner import PageRankPruner\n",
    "from components.reasoning_paths.path_finder import PathFinder\n",
    "from components.explanation.llm_explainer import LLMExplainer\n",
    "from models.graph import Graph\n",
    "from utils.graph_utils import load_graph\n",
    "from utils.visualization import visualize_graph\n",
    "from utils.metrics import evaluate_pipeline\n",
    "\n",
    "# Load the knowledge graph\n",
    "graph = load_graph(\"path/to/your/graph\")\n",
    "visualize_graph(graph)\n",
    "\n",
    "# Initialize NER components\n",
    "spacy_ner = SpacyNER()\n",
    "llm_ner = LLMNER()\n",
    "\n",
    "# Perform NER\n",
    "text = \"Your input text here.\"\n",
    "entities_spacy = spacy_ner.recognize_entities(text)\n",
    "entities_llm = llm_ner.recognize_entities(text)\n",
    "\n",
    "# Display recognized entities\n",
    "print(\"Entities recognized by SpaCy:\", entities_spacy)\n",
    "print(\"Entities recognized by LLM:\", entities_llm)\n",
    "\n",
    "# Subgraph Retrieval\n",
    "retriever = RelatedNodesRetriever(graph)\n",
    "related_nodes = retriever.retrieve_related_nodes(entities_spacy)\n",
    "visualize_graph(related_nodes)\n",
    "\n",
    "# Subgraph Pruning\n",
    "pruner = PageRankPruner()\n",
    "pruned_graph = pruner.prune_graph(related_nodes)\n",
    "visualize_graph(pruned_graph)\n",
    "\n",
    "# Reasoning Paths Generation\n",
    "path_finder = PathFinder()\n",
    "reasoning_paths = path_finder.find_paths(pruned_graph)\n",
    "\n",
    "# Explanation Generation\n",
    "explainer = LLMExplainer()\n",
    "explanations = explainer.generate_explanations(reasoning_paths)\n",
    "\n",
    "# Display explanations\n",
    "for explanation in explanations:\n",
    "    print(explanation)\n",
    "\n",
    "# Evaluation\n",
    "evaluate_pipeline(graph, entities_spacy, entities_llm, related_nodes, pruned_graph, reasoning_paths, explanations)"
   ]
  }
 ],
 "metadata": {
  "kernelspec": {
   "display_name": "Python 3",
   "language": "python",
   "name": "python3"
  },
  "language_info": {
   "codemirror_mode": {
    "name": "ipython",
    "version": 3
   },
   "file_extension": ".py",
   "mimetype": "text/x-python",
   "name": "python",
   "nbconvert_exporter": "python",
   "pygments_lexer": "ipython3",
   "version": "3.8.5"
  }
 },
 "nbformat": 4,
 "nbformat_minor": 4
}