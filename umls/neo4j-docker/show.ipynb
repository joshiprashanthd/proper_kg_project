{
 "cells": [
  {
   "cell_type": "code",
   "execution_count": 1,
   "id": "3db6e408",
   "metadata": {},
   "outputs": [],
   "source": [
    "import pandas as pd\n",
    "from pathlib import Path\n",
    "from tqdm import tqdm"
   ]
  },
  {
   "cell_type": "code",
   "execution_count": 24,
   "id": "7f53b1a3",
   "metadata": {},
   "outputs": [],
   "source": [
    "rt1 = pd.read_csv(\"relationtypes.tsv\", delimiter='\\t')\n",
    "rt2 = pd.read_csv(\"relationtypes2.tsv\", delimiter='\\t')\n",
    "orig = pd.read_csv(\"allrelationtypes.tsv\", delimiter='\\t')\n",
    "cuicui = pd.read_csv(\"./flat_files_umls_full/CUI-CUIs.csv\")"
   ]
  },
  {
   "cell_type": "code",
   "execution_count": null,
   "id": "cdae3ba6",
   "metadata": {},
   "outputs": [
    {
     "data": {
      "text/plain": [
       "(380, 295, 1023)"
      ]
     },
     "execution_count": 23,
     "metadata": {},
     "output_type": "execute_result"
    }
   ],
   "source": [
    "len(rt1), len(rt2), len(orig)"
   ]
  },
  {
   "cell_type": "code",
   "execution_count": 25,
   "id": "26b6978f",
   "metadata": {},
   "outputs": [],
   "source": [
    "rt1 = rt1['RELA   (Relationship Attribute)'].tolist()\n",
    "rt2 = rt2['RELA   (Relationship Attribute)'].tolist()\n",
    "orig = orig['RELA   (Relationship Attribute)'].tolist()"
   ]
  },
  {
   "cell_type": "code",
   "execution_count": 26,
   "id": "bfee17c1",
   "metadata": {},
   "outputs": [
    {
     "data": {
      "text/plain": [
       "291"
      ]
     },
     "execution_count": 26,
     "metadata": {},
     "output_type": "execute_result"
    }
   ],
   "source": [
    "len(set(rt1).intersection(rt2))"
   ]
  },
  {
   "cell_type": "code",
   "execution_count": 27,
   "id": "543f2863",
   "metadata": {},
   "outputs": [],
   "source": [
    "cuicui2 = cuicui[cuicui[':TYPE'].isin(rt1 + rt2)]"
   ]
  },
  {
   "cell_type": "code",
   "execution_count": 28,
   "id": "e873f919",
   "metadata": {},
   "outputs": [
    {
     "name": "stdout",
     "output_type": "stream",
     "text": [
      "<class 'pandas.core.frame.DataFrame'>\n",
      "Index: 14699617 entries, 50588 to 25540437\n",
      "Data columns (total 4 columns):\n",
      " #   Column     Dtype \n",
      "---  ------     ----- \n",
      " 0   :START_ID  object\n",
      " 1   :END_ID    object\n",
      " 2   :TYPE      object\n",
      " 3   SAB        object\n",
      "dtypes: object(4)\n",
      "memory usage: 560.7+ MB\n"
     ]
    }
   ],
   "source": [
    "cuicui2.info()"
   ]
  },
  {
   "cell_type": "code",
   "execution_count": 29,
   "id": "a13da85b",
   "metadata": {},
   "outputs": [],
   "source": [
    "cuicui2.to_csv(\"./flat_files_umls_full/CUI-CUIs--2.csv\", index=False)"
   ]
  },
  {
   "cell_type": "code",
   "execution_count": null,
   "id": "8169150a",
   "metadata": {},
   "outputs": [],
   "source": []
  }
 ],
 "metadata": {
  "kernelspec": {
   "display_name": "kgenv",
   "language": "python",
   "name": "python3"
  },
  "language_info": {
   "codemirror_mode": {
    "name": "ipython",
    "version": 3
   },
   "file_extension": ".py",
   "mimetype": "text/x-python",
   "name": "python",
   "nbconvert_exporter": "python",
   "pygments_lexer": "ipython3",
   "version": "3.11.8"
  }
 },
 "nbformat": 4,
 "nbformat_minor": 5
}
