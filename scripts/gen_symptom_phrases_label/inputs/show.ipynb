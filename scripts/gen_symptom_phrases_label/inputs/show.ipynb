{
 "cells": [
  {
   "cell_type": "code",
   "execution_count": 1,
   "id": "5653e3d9",
   "metadata": {},
   "outputs": [],
   "source": [
    "import pandas as pd"
   ]
  },
  {
   "cell_type": "code",
   "execution_count": 3,
   "id": "766dde9d",
   "metadata": {},
   "outputs": [
    {
     "data": {
      "text/html": [
       "<div>\n",
       "<style scoped>\n",
       "    .dataframe tbody tr th:only-of-type {\n",
       "        vertical-align: middle;\n",
       "    }\n",
       "\n",
       "    .dataframe tbody tr th {\n",
       "        vertical-align: top;\n",
       "    }\n",
       "\n",
       "    .dataframe thead th {\n",
       "        text-align: right;\n",
       "    }\n",
       "</style>\n",
       "<table border=\"1\" class=\"dataframe\">\n",
       "  <thead>\n",
       "    <tr style=\"text-align: right;\">\n",
       "      <th></th>\n",
       "      <th>text</th>\n",
       "      <th>label</th>\n",
       "      <th>phrase</th>\n",
       "      <th>symptom</th>\n",
       "      <th>analysis</th>\n",
       "      <th>faiss_rag_docs</th>\n",
       "      <th>bm25_rag_docs</th>\n",
       "      <th>usefulness_triplets_docs</th>\n",
       "      <th>symptom_phrase_label</th>\n",
       "    </tr>\n",
       "  </thead>\n",
       "  <tbody>\n",
       "    <tr>\n",
       "      <th>0</th>\n",
       "      <td>hey all, recently ive really been down on myse...</td>\n",
       "      <td>Depression</td>\n",
       "      <td>probably struggling with depression</td>\n",
       "      <td>Depressive symptoms</td>\n",
       "      <td>The patient acknowledges a struggle with depre...</td>\n",
       "      <td>[{'content': 'Affective States\n",
       "The core sympto...</td>\n",
       "      <td>[{'content': 'and/or Disinhibition.\n",
       "Proposed D...</td>\n",
       "      <td>[{'triplet': '(Head: 'Depressive disorder', De...</td>\n",
       "      <td>{'phrase': 'probably struggling with depressio...</td>\n",
       "    </tr>\n",
       "    <tr>\n",
       "      <th>1</th>\n",
       "      <td>my family has a very long history of depressio...</td>\n",
       "      <td>Depression</td>\n",
       "      <td>most of us have managed to become functioning ...</td>\n",
       "      <td>Functional but struggling</td>\n",
       "      <td>Despite acknowledging struggles, the patient i...</td>\n",
       "      <td>[{'content': 'when faced with unpredictable or...</td>\n",
       "      <td>[{'content': 'feeding problems scale assesses ...</td>\n",
       "      <td>[{'triplet': '(Head: 'Current level of confide...</td>\n",
       "      <td>{'phrase': 'most of us have managed to become ...</td>\n",
       "    </tr>\n",
       "    <tr>\n",
       "      <th>2</th>\n",
       "      <td>i was diagnosed with depression a while ago, a...</td>\n",
       "      <td>Depression</td>\n",
       "      <td>whenever i go to online, i just.freeze.</td>\n",
       "      <td>Paralyzing anxiety</td>\n",
       "      <td>The patient's experience of freezing when atte...</td>\n",
       "      <td>[{'content': 'theories about why sleep is so e...</td>\n",
       "      <td>[{'content': 'preoccupations, and elimination ...</td>\n",
       "      <td>[{'triplet': '(Head: 'Phobia, Social', Definit...</td>\n",
       "      <td>{'phrase': 'whenever i go to online, i just.fr...</td>\n",
       "    </tr>\n",
       "    <tr>\n",
       "      <th>3</th>\n",
       "      <td>im a fucking asshole. i treat the people i lov...</td>\n",
       "      <td>Depression</td>\n",
       "      <td>the person that i am is an unlovable bitch tha...</td>\n",
       "      <td>Self-loathing</td>\n",
       "      <td>The harsh self-criticism reflects deep-seated ...</td>\n",
       "      <td>[{'content': 'own life (Lachal et al., 2015). ...</td>\n",
       "      <td>[{'content': 'self-\n",
       "esteem may engender\n",
       "strong...</td>\n",
       "      <td>[{'triplet': '(Head: 'Low self-esteem', Defini...</td>\n",
       "      <td>{'phrase': 'the person that i am is an unlovab...</td>\n",
       "    </tr>\n",
       "    <tr>\n",
       "      <th>4</th>\n",
       "      <td>i am diagnosed with panic disorder, generalize...</td>\n",
       "      <td>Comorbid (Depression + Anxiety)</td>\n",
       "      <td>i find it harder and harder to relate to other...</td>\n",
       "      <td>Social disconnection</td>\n",
       "      <td>The difficulty in relating to others suggests ...</td>\n",
       "      <td>[{'content': 'Social detachment is characteriz...</td>\n",
       "      <td>[{'content': 'to enjoy their isolation \n",
       "and de...</td>\n",
       "      <td>[{'triplet': '(Head: 'Social isolation', Defin...</td>\n",
       "      <td>{'phrase': 'i find it harder and harder to rel...</td>\n",
       "    </tr>\n",
       "  </tbody>\n",
       "</table>\n",
       "</div>"
      ],
      "text/plain": [
       "                                                text  \\\n",
       "0  hey all, recently ive really been down on myse...   \n",
       "1  my family has a very long history of depressio...   \n",
       "2  i was diagnosed with depression a while ago, a...   \n",
       "3  im a fucking asshole. i treat the people i lov...   \n",
       "4  i am diagnosed with panic disorder, generalize...   \n",
       "\n",
       "                             label  \\\n",
       "0                       Depression   \n",
       "1                       Depression   \n",
       "2                       Depression   \n",
       "3                       Depression   \n",
       "4  Comorbid (Depression + Anxiety)   \n",
       "\n",
       "                                              phrase  \\\n",
       "0                probably struggling with depression   \n",
       "1  most of us have managed to become functioning ...   \n",
       "2            whenever i go to online, i just.freeze.   \n",
       "3  the person that i am is an unlovable bitch tha...   \n",
       "4  i find it harder and harder to relate to other...   \n",
       "\n",
       "                     symptom  \\\n",
       "0        Depressive symptoms   \n",
       "1  Functional but struggling   \n",
       "2         Paralyzing anxiety   \n",
       "3              Self-loathing   \n",
       "4       Social disconnection   \n",
       "\n",
       "                                            analysis  \\\n",
       "0  The patient acknowledges a struggle with depre...   \n",
       "1  Despite acknowledging struggles, the patient i...   \n",
       "2  The patient's experience of freezing when atte...   \n",
       "3  The harsh self-criticism reflects deep-seated ...   \n",
       "4  The difficulty in relating to others suggests ...   \n",
       "\n",
       "                                      faiss_rag_docs  \\\n",
       "0  [{'content': 'Affective States\n",
       "The core sympto...   \n",
       "1  [{'content': 'when faced with unpredictable or...   \n",
       "2  [{'content': 'theories about why sleep is so e...   \n",
       "3  [{'content': 'own life (Lachal et al., 2015). ...   \n",
       "4  [{'content': 'Social detachment is characteriz...   \n",
       "\n",
       "                                       bm25_rag_docs  \\\n",
       "0  [{'content': 'and/or Disinhibition.\n",
       "Proposed D...   \n",
       "1  [{'content': 'feeding problems scale assesses ...   \n",
       "2  [{'content': 'preoccupations, and elimination ...   \n",
       "3  [{'content': 'self-\n",
       "esteem may engender\n",
       "strong...   \n",
       "4  [{'content': 'to enjoy their isolation \n",
       "and de...   \n",
       "\n",
       "                            usefulness_triplets_docs  \\\n",
       "0  [{'triplet': '(Head: 'Depressive disorder', De...   \n",
       "1  [{'triplet': '(Head: 'Current level of confide...   \n",
       "2  [{'triplet': '(Head: 'Phobia, Social', Definit...   \n",
       "3  [{'triplet': '(Head: 'Low self-esteem', Defini...   \n",
       "4  [{'triplet': '(Head: 'Social isolation', Defin...   \n",
       "\n",
       "                                symptom_phrase_label  \n",
       "0  {'phrase': 'probably struggling with depressio...  \n",
       "1  {'phrase': 'most of us have managed to become ...  \n",
       "2  {'phrase': 'whenever i go to online, i just.fr...  \n",
       "3  {'phrase': 'the person that i am is an unlovab...  \n",
       "4  {'phrase': 'i find it harder and harder to rel...  "
      ]
     },
     "execution_count": 3,
     "metadata": {},
     "output_type": "execute_result"
    }
   ],
   "source": [
    "df = pd.read_json(\"/home/sracha/proper_kg_project/scripts/gen_symptom_phrases_label/outputs/merged/2025_06_12_17_15_12/merged.jsonl\", lines=True)\n",
    "df.head()"
   ]
  },
  {
   "cell_type": "code",
   "execution_count": 4,
   "id": "e49a6904",
   "metadata": {},
   "outputs": [
    {
     "data": {
      "text/plain": [
       "np.int64(279)"
      ]
     },
     "execution_count": 4,
     "metadata": {},
     "output_type": "execute_result"
    }
   ],
   "source": [
    "df['symptom_phrase_label'].isna().sum()"
   ]
  },
  {
   "cell_type": "code",
   "execution_count": 6,
   "id": "95187173",
   "metadata": {},
   "outputs": [
    {
     "name": "stdout",
     "output_type": "stream",
     "text": [
      "<class 'pandas.core.frame.DataFrame'>\n",
      "RangeIndex: 299 entries, 0 to 298\n",
      "Data columns (total 9 columns):\n",
      " #   Column                    Non-Null Count  Dtype \n",
      "---  ------                    --------------  ----- \n",
      " 0   text                      299 non-null    object\n",
      " 1   label                     299 non-null    object\n",
      " 2   phrase                    299 non-null    object\n",
      " 3   symptom                   299 non-null    object\n",
      " 4   analysis                  299 non-null    object\n",
      " 5   faiss_rag_docs            299 non-null    object\n",
      " 6   bm25_rag_docs             299 non-null    object\n",
      " 7   usefulness_triplets_docs  299 non-null    object\n",
      " 8   symptom_phrase_label      20 non-null     object\n",
      "dtypes: object(9)\n",
      "memory usage: 21.2+ KB\n"
     ]
    }
   ],
   "source": [
    "df.info()"
   ]
  },
  {
   "cell_type": "code",
   "execution_count": 7,
   "id": "133fe4e4",
   "metadata": {},
   "outputs": [
    {
     "name": "stdout",
     "output_type": "stream",
     "text": [
      "<class 'pandas.core.frame.DataFrame'>\n",
      "RangeIndex: 279 entries, 0 to 278\n",
      "Data columns (total 8 columns):\n",
      " #   Column                    Non-Null Count  Dtype \n",
      "---  ------                    --------------  ----- \n",
      " 0   text                      279 non-null    object\n",
      " 1   label                     279 non-null    object\n",
      " 2   phrase                    279 non-null    object\n",
      " 3   symptom                   279 non-null    object\n",
      " 4   analysis                  279 non-null    object\n",
      " 5   faiss_rag_docs            279 non-null    object\n",
      " 6   bm25_rag_docs             279 non-null    object\n",
      " 7   usefulness_triplets_docs  279 non-null    object\n",
      "dtypes: object(8)\n",
      "memory usage: 17.6+ KB\n"
     ]
    }
   ],
   "source": [
    "df2 = pd.read_json(\"./merged.jsonl\", lines=True)\n",
    "df2.info()"
   ]
  },
  {
   "cell_type": "code",
   "execution_count": 10,
   "id": "2756c653",
   "metadata": {},
   "outputs": [
    {
     "data": {
      "text/plain": [
       "(279,)"
      ]
     },
     "execution_count": 10,
     "metadata": {},
     "output_type": "execute_result"
    }
   ],
   "source": [
    "df['phrase'].unique().shape"
   ]
  },
  {
   "cell_type": "code",
   "execution_count": null,
   "id": "4c9fcaa3",
   "metadata": {},
   "outputs": [],
   "source": []
  }
 ],
 "metadata": {
  "kernelspec": {
   "display_name": "kgenv",
   "language": "python",
   "name": "python3"
  },
  "language_info": {
   "codemirror_mode": {
    "name": "ipython",
    "version": 3
   },
   "file_extension": ".py",
   "mimetype": "text/x-python",
   "name": "python",
   "nbconvert_exporter": "python",
   "pygments_lexer": "ipython3",
   "version": "3.11.8"
  }
 },
 "nbformat": 4,
 "nbformat_minor": 5
}
