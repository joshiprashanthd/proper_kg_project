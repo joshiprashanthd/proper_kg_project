{
 "cells": [
  {
   "cell_type": "code",
   "execution_count": 1,
   "id": "910406a0",
   "metadata": {},
   "outputs": [],
   "source": [
    "import pandas as pd"
   ]
  },
  {
   "cell_type": "code",
   "execution_count": 2,
   "id": "2b7430c0",
   "metadata": {},
   "outputs": [
    {
     "data": {
      "text/html": [
       "<div>\n",
       "<style scoped>\n",
       "    .dataframe tbody tr th:only-of-type {\n",
       "        vertical-align: middle;\n",
       "    }\n",
       "\n",
       "    .dataframe tbody tr th {\n",
       "        vertical-align: top;\n",
       "    }\n",
       "\n",
       "    .dataframe thead th {\n",
       "        text-align: right;\n",
       "    }\n",
       "</style>\n",
       "<table border=\"1\" class=\"dataframe\">\n",
       "  <thead>\n",
       "    <tr style=\"text-align: right;\">\n",
       "      <th></th>\n",
       "      <th>text</th>\n",
       "      <th>label</th>\n",
       "      <th>id</th>\n",
       "      <th>explanation</th>\n",
       "      <th>context</th>\n",
       "      <th>original_triplet_str</th>\n",
       "    </tr>\n",
       "  </thead>\n",
       "  <tbody>\n",
       "    <tr>\n",
       "      <th>0</th>\n",
       "      <td>my family has a very long history of depressio...</td>\n",
       "      <td>Depression</td>\n",
       "      <td>rBgNB2</td>\n",
       "      <td>In assessing the Reddit post for signs of depr...</td>\n",
       "      <td>Below is the additional context for the senten...</td>\n",
       "      <td>(Head: 'FH: Depression', Definition: '&lt;|NO_DEF...</td>\n",
       "    </tr>\n",
       "    <tr>\n",
       "      <th>1</th>\n",
       "      <td>where i live i can only get dmh sold as the sw...</td>\n",
       "      <td>Normal</td>\n",
       "      <td>hTmnJp</td>\n",
       "      <td>Based on the provided sentences from the Reddi...</td>\n",
       "      <td>Below is the additional context for the senten...</td>\n",
       "      <td>(Head: 'methscopolamine bromide 5 MG Oral Tabl...</td>\n",
       "    </tr>\n",
       "    <tr>\n",
       "      <th>2</th>\n",
       "      <td>i mean for real. the only remotely civil place...</td>\n",
       "      <td>Normal</td>\n",
       "      <td>3mqf63</td>\n",
       "      <td>The provided Reddit post does not display symp...</td>\n",
       "      <td>Below is the additional context for the senten...</td>\n",
       "      <td>(Head: 'Normal', Definition: '1. In pathology,...</td>\n",
       "    </tr>\n",
       "    <tr>\n",
       "      <th>3</th>\n",
       "      <td>im a fucking asshole. i treat the people i lov...</td>\n",
       "      <td>Depression</td>\n",
       "      <td>4Wxepo</td>\n",
       "      <td>The Reddit post conveys a strong indication of...</td>\n",
       "      <td>Below is the additional context for the senten...</td>\n",
       "      <td>(Head: 'I see myself as someone who is depress...</td>\n",
       "    </tr>\n",
       "    <tr>\n",
       "      <th>4</th>\n",
       "      <td>i have severe depression and borderline person...</td>\n",
       "      <td>Depression</td>\n",
       "      <td>RPQsy5</td>\n",
       "      <td>In analyzing the Reddit post and its connectio...</td>\n",
       "      <td>Below is the additional context for the senten...</td>\n",
       "      <td>(Head: 'Depressive disorder NEC in SNOMEDCT', ...</td>\n",
       "    </tr>\n",
       "  </tbody>\n",
       "</table>\n",
       "</div>"
      ],
      "text/plain": [
       "                                                text       label      id  \\\n",
       "0  my family has a very long history of depressio...  Depression  rBgNB2   \n",
       "1  where i live i can only get dmh sold as the sw...      Normal  hTmnJp   \n",
       "2  i mean for real. the only remotely civil place...      Normal  3mqf63   \n",
       "3  im a fucking asshole. i treat the people i lov...  Depression  4Wxepo   \n",
       "4  i have severe depression and borderline person...  Depression  RPQsy5   \n",
       "\n",
       "                                         explanation  \\\n",
       "0  In assessing the Reddit post for signs of depr...   \n",
       "1  Based on the provided sentences from the Reddi...   \n",
       "2  The provided Reddit post does not display symp...   \n",
       "3  The Reddit post conveys a strong indication of...   \n",
       "4  In analyzing the Reddit post and its connectio...   \n",
       "\n",
       "                                             context  \\\n",
       "0  Below is the additional context for the senten...   \n",
       "1  Below is the additional context for the senten...   \n",
       "2  Below is the additional context for the senten...   \n",
       "3  Below is the additional context for the senten...   \n",
       "4  Below is the additional context for the senten...   \n",
       "\n",
       "                                original_triplet_str  \n",
       "0  (Head: 'FH: Depression', Definition: '<|NO_DEF...  \n",
       "1  (Head: 'methscopolamine bromide 5 MG Oral Tabl...  \n",
       "2  (Head: 'Normal', Definition: '1. In pathology,...  \n",
       "3  (Head: 'I see myself as someone who is depress...  \n",
       "4  (Head: 'Depressive disorder NEC in SNOMEDCT', ...  "
      ]
     },
     "execution_count": 2,
     "metadata": {},
     "output_type": "execute_result"
    }
   ],
   "source": [
    "df = pd.read_csv(\"/home/sracha/proper_kg_project/scripts/first_pipeline/outputs/angst_silve_train_cleaned_8k/2025_06_03_00_59_13/angst_silve_train_cleaned_8k_merged.csv\")\n",
    "df.head()"
   ]
  },
  {
   "cell_type": "code",
   "execution_count": 7,
   "id": "3d021748",
   "metadata": {},
   "outputs": [
    {
     "data": {
      "image/png": "[encoded data removed]",
      "text/plain": [
       "<Figure size 640x480 with 1 Axes>"
      ]
     },
     "metadata": {},
     "output_type": "display_data"
    }
   ],
   "source": [
    "import seaborn as sns\n",
    "import matplotlib.pyplot as plt\n",
    "\n",
    "count_head = df['original_triplet_str'].str.count('Head: ').value_counts(normalize=False)\n",
    "sns.barplot(count_head.values)\n",
    "plt.xlabel('Count of \"Head: \" Substring')\n",
    "plt.ylabel('Count of Triplets')\n",
    "plt.title('Distribution of Count of \"Head: \" Substring in Triplets')\n",
    "plt.show()\n"
   ]
  },
  {
   "cell_type": "code",
   "execution_count": 4,
   "id": "3fe39763",
   "metadata": {},
   "outputs": [
    {
     "data": {
      "text/plain": [
       "original_triplet_str\n",
       "60     0.166667\n",
       "70     0.133333\n",
       "40     0.100000\n",
       "120    0.100000\n",
       "110    0.066667\n",
       "80     0.066667\n",
       "170    0.033333\n",
       "160    0.033333\n",
       "140    0.033333\n",
       "180    0.033333\n",
       "100    0.033333\n",
       "130    0.033333\n",
       "200    0.033333\n",
       "210    0.033333\n",
       "90     0.033333\n",
       "230    0.033333\n",
       "190    0.033333\n",
       "Name: proportion, dtype: float64"
      ]
     },
     "execution_count": 4,
     "metadata": {},
     "output_type": "execute_result"
    }
   ],
   "source": [
    "count_head"
   ]
  },
  {
   "cell_type": "code",
   "execution_count": null,
   "id": "3bc985f5",
   "metadata": {},
   "outputs": [],
   "source": []
  }
 ],
 "metadata": {
  "kernelspec": {
   "display_name": "kgenv",
   "language": "python",
   "name": "python3"
  },
  "language_info": {
   "codemirror_mode": {
    "name": "ipython",
    "version": 3
   },
   "file_extension": ".py",
   "mimetype": "text/x-python",
   "name": "python",
   "nbconvert_exporter": "python",
   "pygments_lexer": "ipython3",
   "version": "3.11.8"
  }
 },
 "nbformat": 4,
 "nbformat_minor": 5
}
