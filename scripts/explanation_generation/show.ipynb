{
 "cells": [
  {
   "cell_type": "code",
   "execution_count": 1,
   "metadata": {},
   "outputs": [],
   "source": [
    "import pandas as pd"
   ]
  },
  {
   "cell_type": "code",
   "execution_count": 8,
   "metadata": {},
   "outputs": [
    {
     "name": "stdout",
     "output_type": "stream",
     "text": [
      "<class 'pandas.core.frame.DataFrame'>\n",
      "RangeIndex: 94 entries, 0 to 93\n",
      "Data columns (total 7 columns):\n",
      " #   Column           Non-Null Count  Dtype \n",
      "---  ------           --------------  ----- \n",
      " 0   pubid            94 non-null     int64 \n",
      " 1   question         94 non-null     object\n",
      " 2   context          94 non-null     object\n",
      " 3   long_answer      94 non-null     object\n",
      " 4   answer           94 non-null     object\n",
      " 5   explanation      94 non-null     object\n",
      " 6   reasoning_paths  93 non-null     object\n",
      "dtypes: int64(1), object(6)\n",
      "memory usage: 5.3+ KB\n"
     ]
    }
   ],
   "source": [
    "df = pd.read_csv(\"/home/sracha/proper_kg_project/scripts/explanation_generation/pubmed_100_exp_rp.csv\")\n",
    "df.info()"
   ]
  },
  {
   "cell_type": "code",
   "execution_count": 9,
   "metadata": {},
   "outputs": [
    {
     "data": {
      "text/html": [
       "<div>\n",
       "<style scoped>\n",
       "    .dataframe tbody tr th:only-of-type {\n",
       "        vertical-align: middle;\n",
       "    }\n",
       "\n",
       "    .dataframe tbody tr th {\n",
       "        vertical-align: top;\n",
       "    }\n",
       "\n",
       "    .dataframe thead th {\n",
       "        text-align: right;\n",
       "    }\n",
       "</style>\n",
       "<table border=\"1\" class=\"dataframe\">\n",
       "  <thead>\n",
       "    <tr style=\"text-align: right;\">\n",
       "      <th></th>\n",
       "      <th>pubid</th>\n",
       "      <th>question</th>\n",
       "      <th>context</th>\n",
       "      <th>long_answer</th>\n",
       "      <th>answer</th>\n",
       "      <th>explanation</th>\n",
       "      <th>reasoning_paths</th>\n",
       "    </tr>\n",
       "  </thead>\n",
       "  <tbody>\n",
       "    <tr>\n",
       "      <th>0</th>\n",
       "      <td>14518645</td>\n",
       "      <td>Injury and poisoning mortality among young men...</td>\n",
       "      <td>{'contexts': array(['Deaths from injury and po...</td>\n",
       "      <td>Alcohol and drug use are important contributor...</td>\n",
       "      <td>yes</td>\n",
       "      <td>In addressing the question of whether there ar...</td>\n",
       "      <td>(Diclofenac) -&gt; contraindication -&gt; (diabetes ...</td>\n",
       "    </tr>\n",
       "    <tr>\n",
       "      <th>1</th>\n",
       "      <td>20197761</td>\n",
       "      <td>Is irritable bowel syndrome a diagnosis of exc...</td>\n",
       "      <td>{'contexts': array(['Guidelines emphasize that...</td>\n",
       "      <td>Most community providers believe IBS is a diag...</td>\n",
       "      <td>maybe</td>\n",
       "      <td>Irritable Bowel Syndrome (IBS) is often charac...</td>\n",
       "      <td>NaN</td>\n",
       "    </tr>\n",
       "    <tr>\n",
       "      <th>2</th>\n",
       "      <td>21558951</td>\n",
       "      <td>Are there effects of intrauterine cocaine expo...</td>\n",
       "      <td>{'contexts': array(['To ascertain whether leve...</td>\n",
       "      <td>In this cohort, prospectively ascertained pren...</td>\n",
       "      <td>no</td>\n",
       "      <td>Intrauterine cocaine exposure has been a topic...</td>\n",
       "      <td>(cellular aromatic compound metabolic process)...</td>\n",
       "    </tr>\n",
       "    <tr>\n",
       "      <th>3</th>\n",
       "      <td>26222664</td>\n",
       "      <td>The Deformity Angular Ratio: Does It Correlate...</td>\n",
       "      <td>{'contexts': array(['A retrospective analysis....</td>\n",
       "      <td>In patients undergoing 3-column osteotomies fo...</td>\n",
       "      <td>yes</td>\n",
       "      <td>The question addresses the correlation of the ...</td>\n",
       "      <td>(thoracic spinal cord gray matter) -&gt; anatomy_...</td>\n",
       "    </tr>\n",
       "    <tr>\n",
       "      <th>4</th>\n",
       "      <td>23735520</td>\n",
       "      <td>Can mental imagery functional magnetic resonan...</td>\n",
       "      <td>{'contexts': array(['To determine the potentia...</td>\n",
       "      <td>The fMRI paradigm mental imagery displays a hi...</td>\n",
       "      <td>yes</td>\n",
       "      <td>Mental imagery functional magnetic resonance i...</td>\n",
       "      <td>(skin of anterior chest) -&gt; anatomy_anatomy -&gt;...</td>\n",
       "    </tr>\n",
       "  </tbody>\n",
       "</table>\n",
       "</div>"
      ],
      "text/plain": [
       "      pubid                                           question  \\\n",
       "0  14518645  Injury and poisoning mortality among young men...   \n",
       "1  20197761  Is irritable bowel syndrome a diagnosis of exc...   \n",
       "2  21558951  Are there effects of intrauterine cocaine expo...   \n",
       "3  26222664  The Deformity Angular Ratio: Does It Correlate...   \n",
       "4  23735520  Can mental imagery functional magnetic resonan...   \n",
       "\n",
       "                                             context  \\\n",
       "0  {'contexts': array(['Deaths from injury and po...   \n",
       "1  {'contexts': array(['Guidelines emphasize that...   \n",
       "2  {'contexts': array(['To ascertain whether leve...   \n",
       "3  {'contexts': array(['A retrospective analysis....   \n",
       "4  {'contexts': array(['To determine the potentia...   \n",
       "\n",
       "                                         long_answer answer  \\\n",
       "0  Alcohol and drug use are important contributor...    yes   \n",
       "1  Most community providers believe IBS is a diag...  maybe   \n",
       "2  In this cohort, prospectively ascertained pren...     no   \n",
       "3  In patients undergoing 3-column osteotomies fo...    yes   \n",
       "4  The fMRI paradigm mental imagery displays a hi...    yes   \n",
       "\n",
       "                                         explanation  \\\n",
       "0  In addressing the question of whether there ar...   \n",
       "1  Irritable Bowel Syndrome (IBS) is often charac...   \n",
       "2  Intrauterine cocaine exposure has been a topic...   \n",
       "3  The question addresses the correlation of the ...   \n",
       "4  Mental imagery functional magnetic resonance i...   \n",
       "\n",
       "                                     reasoning_paths  \n",
       "0  (Diclofenac) -> contraindication -> (diabetes ...  \n",
       "1                                                NaN  \n",
       "2  (cellular aromatic compound metabolic process)...  \n",
       "3  (thoracic spinal cord gray matter) -> anatomy_...  \n",
       "4  (skin of anterior chest) -> anatomy_anatomy ->...  "
      ]
     },
     "execution_count": 9,
     "metadata": {},
     "output_type": "execute_result"
    }
   ],
   "source": [
    "df.head()"
   ]
  },
  {
   "cell_type": "code",
   "execution_count": null,
   "metadata": {},
   "outputs": [],
   "source": []
  }
 ],
 "metadata": {
  "kernelspec": {
   "display_name": "kgenv",
   "language": "python",
   "name": "python3"
  },
  "language_info": {
   "codemirror_mode": {
    "name": "ipython",
    "version": 3
   },
   "file_extension": ".py",
   "mimetype": "text/x-python",
   "name": "python",
   "nbconvert_exporter": "python",
   "pygments_lexer": "ipython3",
   "version": "3.11.8"
  }
 },
 "nbformat": 4,
 "nbformat_minor": 2
}
