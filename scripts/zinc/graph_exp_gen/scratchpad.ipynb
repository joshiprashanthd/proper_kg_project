{
 "cells": [
  {
   "cell_type": "code",
   "execution_count": 1,
   "id": "b171189f",
   "metadata": {},
   "outputs": [],
   "source": [
    "import pandas as pd"
   ]
  },
  {
   "cell_type": "code",
   "execution_count": 2,
   "id": "408258b9",
   "metadata": {},
   "outputs": [],
   "source": [
    "df = pd.read_csv(\"/home/sracha/proper_kg_project/scripts/graph_exp_gen/outputs/outputs-2025-04-26_19-09-40.csv\")"
   ]
  },
  {
   "cell_type": "code",
   "execution_count": null,
   "id": "59ffd55a",
   "metadata": {},
   "outputs": [
    {
     "name": "stdout",
     "output_type": "stream",
     "text": [
      "<class 'pandas.core.frame.DataFrame'>\n",
      "RangeIndex: 1014 entries, 0 to 1013\n",
      "Data columns (total 4 columns):\n",
      " #   Column           Non-Null Count  Dtype \n",
      "---  ------           --------------  ----- \n",
      " 0   index            1014 non-null   int64 \n",
      " 1   question         1014 non-null   object\n",
      " 2   explanation      1014 non-null   object\n",
      " 3   reasoning_paths  406 non-null    object\n",
      "dtypes: int64(1), object(3)\n",
      "memory usage: 31.8+ KB\n"
     ]
    }
   ],
   "source": []
  },
  {
   "cell_type": "code",
   "execution_count": null,
   "id": "3f4a3fb6",
   "metadata": {},
   "outputs": [],
   "source": []
  }
 ],
 "metadata": {
  "kernelspec": {
   "display_name": "kgenv",
   "language": "python",
   "name": "python3"
  },
  "language_info": {
   "codemirror_mode": {
    "name": "ipython",
    "version": 3
   },
   "file_extension": ".py",
   "mimetype": "text/x-python",
   "name": "python",
   "nbconvert_exporter": "python",
   "pygments_lexer": "ipython3",
   "version": "3.11.8"
  }
 },
 "nbformat": 4,
 "nbformat_minor": 5
}
