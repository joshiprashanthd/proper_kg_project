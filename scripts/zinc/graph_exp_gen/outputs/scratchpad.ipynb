{
 "cells": [
  {
   "cell_type": "code",
   "execution_count": 1,
   "id": "7fa68373",
   "metadata": {},
   "outputs": [],
   "source": [
    "import pandas as pd\n",
    "from pathlib import Path"
   ]
  },
  {
   "cell_type": "code",
   "execution_count": 2,
   "id": "7fd29f57",
   "metadata": {},
   "outputs": [
    {
     "data": {
      "text/plain": [
       "[PosixPath('outputs.csv'),\n",
       " PosixPath('outputs-2025-04-25_13-07-41.csv'),\n",
       " PosixPath('outputs-2025-04-25_13-22-58.csv'),\n",
       " PosixPath('outputs-2025-04-25_12-12-53.csv')]"
      ]
     },
     "execution_count": 2,
     "metadata": {},
     "output_type": "execute_result"
    }
   ],
   "source": [
    "csv_paths = [file for file in Path(\".\").iterdir() if file.suffix == '.csv']\n",
    "csv_paths"
   ]
  },
  {
   "cell_type": "code",
   "execution_count": 3,
   "id": "a6a2c3fd",
   "metadata": {},
   "outputs": [
    {
     "name": "stderr",
     "output_type": "stream",
     "text": [
      "/tmp/ipykernel_3687314/1192051184.py:1: ParserWarning: Skipping line 876: expected 4 fields, saw 5\n",
      "Skipping line 878: expected 4 fields, saw 5\n",
      "Skipping line 882: expected 4 fields, saw 5\n",
      "Skipping line 884: expected 4 fields, saw 7\n",
      "Skipping line 888: expected 4 fields, saw 5\n",
      "\n",
      "  df1 = pd.read_csv(csv_paths[-2], on_bad_lines='warn')\n"
     ]
    }
   ],
   "source": [
    "df1 = pd.read_csv(csv_paths[-2], on_bad_lines='warn')"
   ]
  },
  {
   "cell_type": "code",
   "execution_count": 4,
   "id": "1ba67ff1",
   "metadata": {},
   "outputs": [
    {
     "name": "stdout",
     "output_type": "stream",
     "text": [
      "<class 'pandas.core.frame.DataFrame'>\n",
      "RangeIndex: 1798 entries, 0 to 1797\n",
      "Data columns (total 4 columns):\n",
      " #   Column           Non-Null Count  Dtype \n",
      "---  ------           --------------  ----- \n",
      " 0   index            1798 non-null   object\n",
      " 1   question         1793 non-null   object\n",
      " 2   explanation      1792 non-null   object\n",
      " 3   reasoning_paths  750 non-null    object\n",
      "dtypes: object(4)\n",
      "memory usage: 56.3+ KB\n"
     ]
    }
   ],
   "source": [
    "df1.info()"
   ]
  },
  {
   "cell_type": "code",
   "execution_count": 6,
   "id": "dc00a9a1",
   "metadata": {},
   "outputs": [
    {
     "data": {
      "text/html": [
       "<div>\n",
       "<style scoped>\n",
       "    .dataframe tbody tr th:only-of-type {\n",
       "        vertical-align: middle;\n",
       "    }\n",
       "\n",
       "    .dataframe tbody tr th {\n",
       "        vertical-align: top;\n",
       "    }\n",
       "\n",
       "    .dataframe thead th {\n",
       "        text-align: right;\n",
       "    }\n",
       "</style>\n",
       "<table border=\"1\" class=\"dataframe\">\n",
       "  <thead>\n",
       "    <tr style=\"text-align: right;\">\n",
       "      <th></th>\n",
       "      <th>index</th>\n",
       "      <th>question</th>\n",
       "      <th>explanation</th>\n",
       "      <th>reasoning_paths</th>\n",
       "    </tr>\n",
       "  </thead>\n",
       "  <tbody>\n",
       "    <tr>\n",
       "      <th>0</th>\n",
       "      <td>200</td>\n",
       "      <td>Which risk factors are significant for differe...</td>\n",
       "      <td>To differentiate between suicide completers an...</td>\n",
       "      <td>NaN</td>\n",
       "    </tr>\n",
       "    <tr>\n",
       "      <th>1</th>\n",
       "      <td>130</td>\n",
       "      <td>What psychological traits have been shown to p...</td>\n",
       "      <td>To understand the psychological traits that pr...</td>\n",
       "      <td>NaN</td>\n",
       "    </tr>\n",
       "    <tr>\n",
       "      <th>3</th>\n",
       "      <td>310</td>\n",
       "      <td>What strategies can be incorporated in stress ...</td>\n",
       "      <td>To enhance self-awareness and emotional regula...</td>\n",
       "      <td>NaN</td>\n",
       "    </tr>\n",
       "    <tr>\n",
       "      <th>4</th>\n",
       "      <td>210</td>\n",
       "      <td>What abnormality in error-related negativity w...</td>\n",
       "      <td>To understand the abnormality in error-related...</td>\n",
       "      <td>NaN</td>\n",
       "    </tr>\n",
       "    <tr>\n",
       "      <th>5</th>\n",
       "      <td>110</td>\n",
       "      <td>What strategies can be implemented to effectiv...</td>\n",
       "      <td>To effectively address the long-term anxiety e...</td>\n",
       "      <td>NaN</td>\n",
       "    </tr>\n",
       "  </tbody>\n",
       "</table>\n",
       "</div>"
      ],
      "text/plain": [
       "  index                                           question  \\\n",
       "0   200  Which risk factors are significant for differe...   \n",
       "1   130  What psychological traits have been shown to p...   \n",
       "3   310  What strategies can be incorporated in stress ...   \n",
       "4   210  What abnormality in error-related negativity w...   \n",
       "5   110  What strategies can be implemented to effectiv...   \n",
       "\n",
       "                                         explanation reasoning_paths  \n",
       "0  To differentiate between suicide completers an...             NaN  \n",
       "1  To understand the psychological traits that pr...             NaN  \n",
       "3  To enhance self-awareness and emotional regula...             NaN  \n",
       "4  To understand the abnormality in error-related...             NaN  \n",
       "5  To effectively address the long-term anxiety e...             NaN  "
      ]
     },
     "execution_count": 6,
     "metadata": {},
     "output_type": "execute_result"
    }
   ],
   "source": [
    "df1[df1['reasoning_paths'].isna()].head()"
   ]
  },
  {
   "cell_type": "code",
   "execution_count": 7,
   "id": "0e726bf4",
   "metadata": {},
   "outputs": [
    {
     "name": "stdout",
     "output_type": "stream",
     "text": [
      "<class 'pandas.core.frame.DataFrame'>\n",
      "Index: 750 entries, 2 to 1797\n",
      "Data columns (total 4 columns):\n",
      " #   Column           Non-Null Count  Dtype \n",
      "---  ------           --------------  ----- \n",
      " 0   index            750 non-null    object\n",
      " 1   question         750 non-null    object\n",
      " 2   explanation      750 non-null    object\n",
      " 3   reasoning_paths  750 non-null    object\n",
      "dtypes: object(4)\n",
      "memory usage: 29.3+ KB\n"
     ]
    }
   ],
   "source": [
    "df2 = df1[~df1['reasoning_paths'].isna()]\n",
    "df2.info()"
   ]
  },
  {
   "cell_type": "code",
   "execution_count": 8,
   "id": "f7d6490f",
   "metadata": {},
   "outputs": [],
   "source": [
    "df2.to_csv(\"clean_output1.csv\", index=False)"
   ]
  },
  {
   "cell_type": "code",
   "execution_count": null,
   "id": "0251746a",
   "metadata": {},
   "outputs": [],
   "source": []
  }
 ],
 "metadata": {
  "kernelspec": {
   "display_name": "kgenv",
   "language": "python",
   "name": "python3"
  },
  "language_info": {
   "codemirror_mode": {
    "name": "ipython",
    "version": 3
   },
   "file_extension": ".py",
   "mimetype": "text/x-python",
   "name": "python",
   "nbconvert_exporter": "python",
   "pygments_lexer": "ipython3",
   "version": "3.11.8"
  }
 },
 "nbformat": 4,
 "nbformat_minor": 5
}
