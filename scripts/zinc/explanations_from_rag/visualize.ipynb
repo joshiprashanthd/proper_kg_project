{
 "cells": [
  {
   "cell_type": "code",
   "execution_count": 13,
   "id": "55272af8",
   "metadata": {},
   "outputs": [],
   "source": [
    "import pandas as pd\n",
    "from pathlib import Path\n",
    "from matplotlib import pyplot as plt"
   ]
  },
  {
   "cell_type": "code",
   "execution_count": 5,
   "id": "171bd8e3",
   "metadata": {},
   "outputs": [
    {
     "data": {
      "text/html": [
       "<div>\n",
       "<style scoped>\n",
       "    .dataframe tbody tr th:only-of-type {\n",
       "        vertical-align: middle;\n",
       "    }\n",
       "\n",
       "    .dataframe tbody tr th {\n",
       "        vertical-align: top;\n",
       "    }\n",
       "\n",
       "    .dataframe thead th {\n",
       "        text-align: right;\n",
       "    }\n",
       "</style>\n",
       "<table border=\"1\" class=\"dataframe\">\n",
       "  <thead>\n",
       "    <tr style=\"text-align: right;\">\n",
       "      <th></th>\n",
       "      <th>id</th>\n",
       "      <th>question</th>\n",
       "      <th>answer</th>\n",
       "      <th>triplets</th>\n",
       "      <th>label</th>\n",
       "      <th>justification</th>\n",
       "    </tr>\n",
       "  </thead>\n",
       "  <tbody>\n",
       "    <tr>\n",
       "      <th>0</th>\n",
       "      <td>8qKeYR</td>\n",
       "      <td>Classify whether the given text is Depression,...</td>\n",
       "      <td>Normal</td>\n",
       "      <td>(COVI - Verbal Report, Definition: '1. Covi An...</td>\n",
       "      <td>Useful</td>\n",
       "      <td>This triplet relates to anxiety measurement an...</td>\n",
       "    </tr>\n",
       "    <tr>\n",
       "      <th>1</th>\n",
       "      <td>8qKeYR</td>\n",
       "      <td>Classify whether the given text is Depression,...</td>\n",
       "      <td>Normal</td>\n",
       "      <td>(COVI - Verbal Report, Definition: '1. Covi An...</td>\n",
       "      <td>Useful</td>\n",
       "      <td>Similar to the previous triplet, this one conn...</td>\n",
       "    </tr>\n",
       "    <tr>\n",
       "      <th>2</th>\n",
       "      <td>8qKeYR</td>\n",
       "      <td>Classify whether the given text is Depression,...</td>\n",
       "      <td>Normal</td>\n",
       "      <td>(PROMIS short form - emotional distress - anxi...</td>\n",
       "      <td>Useful</td>\n",
       "      <td>This triplet connects a specific measurement t...</td>\n",
       "    </tr>\n",
       "    <tr>\n",
       "      <th>3</th>\n",
       "      <td>8qKeYR</td>\n",
       "      <td>Classify whether the given text is Depression,...</td>\n",
       "      <td>Normal</td>\n",
       "      <td>(Covi Anxiety Scale Clinical Classification, D...</td>\n",
       "      <td>Useful</td>\n",
       "      <td>This triplet emphasizes the standardized asses...</td>\n",
       "    </tr>\n",
       "    <tr>\n",
       "      <th>4</th>\n",
       "      <td>8qKeYR</td>\n",
       "      <td>Classify whether the given text is Depression,...</td>\n",
       "      <td>Normal</td>\n",
       "      <td>(Generalized Anxiety Disorder - 7 Version 2 - ...</td>\n",
       "      <td>Useful</td>\n",
       "      <td>This triplet connects a specific anxiety disor...</td>\n",
       "    </tr>\n",
       "  </tbody>\n",
       "</table>\n",
       "</div>"
      ],
      "text/plain": [
       "       id                                           question  answer  \\\n",
       "0  8qKeYR  Classify whether the given text is Depression,...  Normal   \n",
       "1  8qKeYR  Classify whether the given text is Depression,...  Normal   \n",
       "2  8qKeYR  Classify whether the given text is Depression,...  Normal   \n",
       "3  8qKeYR  Classify whether the given text is Depression,...  Normal   \n",
       "4  8qKeYR  Classify whether the given text is Depression,...  Normal   \n",
       "\n",
       "                                            triplets   label  \\\n",
       "0  (COVI - Verbal Report, Definition: '1. Covi An...  Useful   \n",
       "1  (COVI - Verbal Report, Definition: '1. Covi An...  Useful   \n",
       "2  (PROMIS short form - emotional distress - anxi...  Useful   \n",
       "3  (Covi Anxiety Scale Clinical Classification, D...  Useful   \n",
       "4  (Generalized Anxiety Disorder - 7 Version 2 - ...  Useful   \n",
       "\n",
       "                                       justification  \n",
       "0  This triplet relates to anxiety measurement an...  \n",
       "1  Similar to the previous triplet, this one conn...  \n",
       "2  This triplet connects a specific measurement t...  \n",
       "3  This triplet emphasizes the standardized asses...  \n",
       "4  This triplet connects a specific anxiety disor...  "
      ]
     },
     "execution_count": 5,
     "metadata": {},
     "output_type": "execute_result"
    }
   ],
   "source": [
    "df = pd.read_csv(\"/home/sracha/proper_kg_project/scripts/gen_triplet_rag_explanations/outputs/find_usefulness/angst/run_2025_05_29_22_15_51/angst_merged.csv\")\n",
    "df.head()"
   ]
  },
  {
   "cell_type": "code",
   "execution_count": 20,
   "id": "fe0abc50",
   "metadata": {},
   "outputs": [
    {
     "data": {
      "image/png": "[encoded data removed]",
      "text/plain": [
       "<Figure size 640x480 with 1 Axes>"
      ]
     },
     "metadata": {},
     "output_type": "display_data"
    }
   ],
   "source": [
    "# groupby question and create two columns named 'useful' and 'not useful' that contain the number of times each label appears\n",
    "useful_count = df.groupby('question')['label'].apply(lambda x: (x == 'Useful').sum()).reset_index(name='useful_count')\n",
    "not_useful_count = df.groupby('question')['label'].apply(lambda x: (x == 'Not Useful').sum()).reset_index(name='not_useful_count')\n",
    "\n",
    "# merge the two dataframes on the 'question' column\n",
    "merged_df = pd.merge(useful_count, not_useful_count, on='question')\n",
    "merged_df['truncated_question'] = merged_df['question'].apply(lambda x: x[:10])\n",
    "\n",
    "# plot the number of useful and not useful explanations for each question\n",
    "merged_df.plot(kind='bar', x='truncated_question', y=['useful_count', 'not_useful_count'])\n",
    "plt.show()\n"
   ]
  },
  {
   "cell_type": "code",
   "execution_count": 19,
   "id": "1ffe645d",
   "metadata": {},
   "outputs": [
    {
     "data": {
      "text/html": [
       "<div>\n",
       "<style scoped>\n",
       "    .dataframe tbody tr th:only-of-type {\n",
       "        vertical-align: middle;\n",
       "    }\n",
       "\n",
       "    .dataframe tbody tr th {\n",
       "        vertical-align: top;\n",
       "    }\n",
       "\n",
       "    .dataframe thead th {\n",
       "        text-align: right;\n",
       "    }\n",
       "</style>\n",
       "<table border=\"1\" class=\"dataframe\">\n",
       "  <thead>\n",
       "    <tr style=\"text-align: right;\">\n",
       "      <th></th>\n",
       "      <th>question</th>\n",
       "      <th>useful_count</th>\n",
       "    </tr>\n",
       "  </thead>\n",
       "  <tbody>\n",
       "    <tr>\n",
       "      <th>0</th>\n",
       "      <td>Classify whether the given text is Depression,...</td>\n",
       "      <td>14</td>\n",
       "    </tr>\n",
       "    <tr>\n",
       "      <th>1</th>\n",
       "      <td>Classify whether the given text is Depression,...</td>\n",
       "      <td>4</td>\n",
       "    </tr>\n",
       "    <tr>\n",
       "      <th>2</th>\n",
       "      <td>Classify whether the given text is Depression,...</td>\n",
       "      <td>2</td>\n",
       "    </tr>\n",
       "    <tr>\n",
       "      <th>3</th>\n",
       "      <td>Classify whether the given text is Depression,...</td>\n",
       "      <td>13</td>\n",
       "    </tr>\n",
       "    <tr>\n",
       "      <th>4</th>\n",
       "      <td>Classify whether the given text is Depression,...</td>\n",
       "      <td>0</td>\n",
       "    </tr>\n",
       "  </tbody>\n",
       "</table>\n",
       "</div>"
      ],
      "text/plain": [
       "                                            question  useful_count\n",
       "0  Classify whether the given text is Depression,...            14\n",
       "1  Classify whether the given text is Depression,...             4\n",
       "2  Classify whether the given text is Depression,...             2\n",
       "3  Classify whether the given text is Depression,...            13\n",
       "4  Classify whether the given text is Depression,...             0"
      ]
     },
     "execution_count": 19,
     "metadata": {},
     "output_type": "execute_result"
    }
   ],
   "source": [
    "useful_count.head()"
   ]
  },
  {
   "cell_type": "code",
   "execution_count": null,
   "id": "7f38637a",
   "metadata": {},
   "outputs": [],
   "source": []
  }
 ],
 "metadata": {
  "kernelspec": {
   "display_name": "kgenv",
   "language": "python",
   "name": "python3"
  },
  "language_info": {
   "codemirror_mode": {
    "name": "ipython",
    "version": 3
   },
   "file_extension": ".py",
   "mimetype": "text/x-python",
   "name": "python",
   "nbconvert_exporter": "python",
   "pygments_lexer": "ipython3",
   "version": "3.11.8"
  }
 },
 "nbformat": 4,
 "nbformat_minor": 5
}
